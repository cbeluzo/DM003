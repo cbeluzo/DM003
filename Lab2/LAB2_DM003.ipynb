{
 "cells": [
  {
   "cell_type": "markdown",
   "metadata": {
    "id": "Lm7ClMFrSZ3A"
   },
   "source": [
    "Análise Demográfica III (DM003)\n",
    "Laboratório 2: Métodos para mensuração da cobertura do registro de óbitos da mortalidade adulta"
   ]
  },
  {
   "cell_type": "markdown",
   "metadata": {
    "id": "zNUBq62tSh8j"
   },
   "source": [
    "# Introdução"
   ]
  },
  {
   "cell_type": "markdown",
   "metadata": {},
   "source": [
    "O estudo do nível e padrão da mortalidade e também a obtenção de estimativas confiáveis são muito importantes na compreensão da dinâmica demográfica e no planejamento fiscal e de políticas sociais, especialmente nas áreas de saúde e previdência (Agostinho, 2008). Estimar a mortalidade é um desafio, uma vez que a qualidade da informação geralmente não é satisfatória (Jorge e Gotlieb, 2000; Ministério da Saúde, 2001 apud Agostinho, 2008). As dificuldades existentes nas fontes de dados utilizadas na estimativa da mortalidade estão relacionadas à incompleta cobertura do registro de óbitos e a erros na declaração da idade, tanto no registro de óbito quanto nos dados de população (United Nations, 1983; Preston, Elo, Stewart, 1999 apud Agostinho, 2008). Para contornar esses problemas dos dados, diferentes metodologias foram desenvolvidas para se mensurar a mortalidade adulta de forma indireta (Brass, 1975; Preston et al., 1980; Bennett e Horiuchi, 1981; Hill, 1987; Hill e Choi, 2004 apud Agostinho, 2008)."
   ]
  },
  {
   "cell_type": "markdown",
   "metadata": {
    "id": "XwebEeQwRz3u"
   },
   "source": [
    "O objetivo deste trabalho é mensurar a cobertura do registro de óbitos da mortalidade adulta de homens no estados do Amazonas em 2010. Considerando que temos disponibilidade de dados dos censos de 2000 e 2010, este trabalho será realizado utilizando métodos baseados em dados dois censos. Especificamente serão aplicados os métodos: (1) General Growth Balance (GGB) e (2) Synthetic Extinct Generation (SEG)."
   ]
  },
  {
   "cell_type": "markdown",
   "metadata": {
    "execution": {
     "iopub.execute_input": "2020-12-05T13:20:57.751853Z",
     "iopub.status.busy": "2020-12-05T13:20:57.751032Z",
     "iopub.status.idle": "2020-12-05T13:20:57.757991Z"
    }
   },
   "source": [
    "# Metodologia"
   ]
  },
  {
   "cell_type": "markdown",
   "metadata": {},
   "source": [
    "Conforme colocado no trabalho de Agostinho (2008):\n",
    "\n",
    "    \"Os métodos usados na estimativa da cobertura do registro de mortes avaliam a cobertura do registro de óbitos \n",
    "    comparando a distribuição etária de mortes com a distribuição etária da população (proveniente de censos ou surveys). \n",
    "    Se a cobertura do registro de mortes relativa à cobertura do registro de pessoas pode ser estimada, \n",
    "    os dados de mortalidade podem ser ajustados por esse diferencial de cobertura e um padrão de mortalidade não viesado é \n",
    "    calculado por idades em determinado período\".\n",
    "\n",
    "Este trabalho utiliza como fontes dados informações dos Censos de 2000 e 2010, para extrair o número de homens no estado do Amazonas (AM) ([dados](https://sidra.ibge.gov.br/Tabela/200#resultado)). Adicionalmente, utiliza-se ainda como fonte de dados o Sistema de Mortalidade ([SIM](http://tabnet.datasus.gov.br/cgi/tabcgi.exe?sim/cnv/obt10AM.def)), para extração do número total de mortes para homens no período de 2000 e 2010. Importante ressaltar que neste período sabe-se que foi observado no AM um saldo migratório interestadual positivo e relevante, entratando vamos presupor que a população é fechada, por uma mera questão de simplificação da aplicação do método. Os dados que serão utilizados como insumo de entrada para os métodos estão apresentados na Tabela 1.\n",
    "\n",
    "Após aplicação dos métodos, serão apresentados como resultados os gráficos para diagnósticos e respectivas interpretações. Serão apresentandos também análises comparativas dos resultados dos valores da probabilidade de morte (q(x)) ajustados versus observados, assim como entre os dois métodos utilizados neste trabalho."
   ]
  },
  {
   "cell_type": "markdown",
   "metadata": {
    "id": "fHDvc6TsULNd"
   },
   "source": [
    "Tabela 1. População de homens no Amazonas em 2000, 2010 segundo respectivos censos; e total de óbitos do período 2000 a 2010 segundo SIM. (Fontes: Censo 2000 e 2010; SIM)"
   ]
  },
  {
   "cell_type": "code",
   "execution_count": 3,
   "metadata": {
    "colab": {
     "base_uri": "https://localhost:8080/",
     "height": 435
    },
    "execution": {
     "iopub.execute_input": "2020-12-05T15:03:46.094837Z",
     "iopub.status.busy": "2020-12-05T15:03:46.093581Z",
     "iopub.status.idle": "2020-12-05T15:03:46.823748Z"
    },
    "id": "_18d3NOcOJpE",
    "outputId": "8ce57ced-073f-408c-e035-2b8e985b6ad3"
   },
   "outputs": [
    {
     "data": {
      "text/html": [
       "<table>\n",
       "<thead><tr><th scope=col>Idade</th><th scope=col>N(t1)</th><th scope=col>N(t2)</th><th scope=col>D(x)</th></tr></thead>\n",
       "<tbody>\n",
       "\t<tr><td>0 a 4 anos     </td><td>195735         </td><td>188167         </td><td>1086.9         </td></tr>\n",
       "\t<tr><td>5 a 9 anos     </td><td>187618         </td><td>195995         </td><td>  92.5         </td></tr>\n",
       "\t<tr><td>10 a 14 anos   </td><td>170928         </td><td>203418         </td><td>  86.9         </td></tr>\n",
       "\t<tr><td>15 a 19 anos   </td><td>167067         </td><td>182546         </td><td> 263.1         </td></tr>\n",
       "\t<tr><td>20 a 24 anos   </td><td>144214         </td><td>170242         </td><td> 394.7         </td></tr>\n",
       "\t<tr><td>25 a 29 anos   </td><td>116531         </td><td>161273         </td><td> 361.6         </td></tr>\n",
       "\t<tr><td>30 a 34 anos   </td><td> 96706         </td><td>142710         </td><td> 319.2         </td></tr>\n",
       "\t<tr><td>35 a 39 anos   </td><td> 84397         </td><td>116794         </td><td> 307.8         </td></tr>\n",
       "\t<tr><td>40 a 44 anos   </td><td> 67150         </td><td> 98058         </td><td> 337.1         </td></tr>\n",
       "\t<tr><td>45 a 49 anos   </td><td> 52303         </td><td> 80209         </td><td> 368.8         </td></tr>\n",
       "\t<tr><td>50 a 54 anos   </td><td> 37964         </td><td> 64117         </td><td> 390.9         </td></tr>\n",
       "\t<tr><td>55 a 59 anos   </td><td> 28333         </td><td> 47832         </td><td> 433.4         </td></tr>\n",
       "\t<tr><td>60 a 64 anos   </td><td> 22255         </td><td> 35546         </td><td> 458.4         </td></tr>\n",
       "\t<tr><td>65 a 69 anos   </td><td> 17423         </td><td> 24907         </td><td> 516.7         </td></tr>\n",
       "\t<tr><td>70 a 74 anos   </td><td> 12871         </td><td> 17698         </td><td> 578.5         </td></tr>\n",
       "\t<tr><td>75 a 79 anos   </td><td>  7831         </td><td> 11799         </td><td> 556.9         </td></tr>\n",
       "\t<tr><td>80 anos ou mais</td><td>  6863         </td><td> 11868         </td><td>1050.9         </td></tr>\n",
       "</tbody>\n",
       "</table>\n"
      ],
      "text/latex": [
       "\\begin{tabular}{r|llll}\n",
       " Idade & N(t1) & N(t2) & D(x)\\\\\n",
       "\\hline\n",
       "\t 0 a 4 anos      & 195735          & 188167          & 1086.9         \\\\\n",
       "\t 5 a 9 anos      & 187618          & 195995          &   92.5         \\\\\n",
       "\t 10 a 14 anos    & 170928          & 203418          &   86.9         \\\\\n",
       "\t 15 a 19 anos    & 167067          & 182546          &  263.1         \\\\\n",
       "\t 20 a 24 anos    & 144214          & 170242          &  394.7         \\\\\n",
       "\t 25 a 29 anos    & 116531          & 161273          &  361.6         \\\\\n",
       "\t 30 a 34 anos    &  96706          & 142710          &  319.2         \\\\\n",
       "\t 35 a 39 anos    &  84397          & 116794          &  307.8         \\\\\n",
       "\t 40 a 44 anos    &  67150          &  98058          &  337.1         \\\\\n",
       "\t 45 a 49 anos    &  52303          &  80209          &  368.8         \\\\\n",
       "\t 50 a 54 anos    &  37964          &  64117          &  390.9         \\\\\n",
       "\t 55 a 59 anos    &  28333          &  47832          &  433.4         \\\\\n",
       "\t 60 a 64 anos    &  22255          &  35546          &  458.4         \\\\\n",
       "\t 65 a 69 anos    &  17423          &  24907          &  516.7         \\\\\n",
       "\t 70 a 74 anos    &  12871          &  17698          &  578.5         \\\\\n",
       "\t 75 a 79 anos    &   7831          &  11799          &  556.9         \\\\\n",
       "\t 80 anos ou mais &   6863          &  11868          & 1050.9         \\\\\n",
       "\\end{tabular}\n"
      ],
      "text/markdown": [
       "\n",
       "| Idade | N(t1) | N(t2) | D(x) |\n",
       "|---|---|---|---|\n",
       "| 0 a 4 anos      | 195735          | 188167          | 1086.9          |\n",
       "| 5 a 9 anos      | 187618          | 195995          |   92.5          |\n",
       "| 10 a 14 anos    | 170928          | 203418          |   86.9          |\n",
       "| 15 a 19 anos    | 167067          | 182546          |  263.1          |\n",
       "| 20 a 24 anos    | 144214          | 170242          |  394.7          |\n",
       "| 25 a 29 anos    | 116531          | 161273          |  361.6          |\n",
       "| 30 a 34 anos    |  96706          | 142710          |  319.2          |\n",
       "| 35 a 39 anos    |  84397          | 116794          |  307.8          |\n",
       "| 40 a 44 anos    |  67150          |  98058          |  337.1          |\n",
       "| 45 a 49 anos    |  52303          |  80209          |  368.8          |\n",
       "| 50 a 54 anos    |  37964          |  64117          |  390.9          |\n",
       "| 55 a 59 anos    |  28333          |  47832          |  433.4          |\n",
       "| 60 a 64 anos    |  22255          |  35546          |  458.4          |\n",
       "| 65 a 69 anos    |  17423          |  24907          |  516.7          |\n",
       "| 70 a 74 anos    |  12871          |  17698          |  578.5          |\n",
       "| 75 a 79 anos    |   7831          |  11799          |  556.9          |\n",
       "| 80 anos ou mais |   6863          |  11868          | 1050.9          |\n",
       "\n"
      ],
      "text/plain": [
       "   Idade           N(t1)  N(t2)  D(x)  \n",
       "1  0 a 4 anos      195735 188167 1086.9\n",
       "2  5 a 9 anos      187618 195995   92.5\n",
       "3  10 a 14 anos    170928 203418   86.9\n",
       "4  15 a 19 anos    167067 182546  263.1\n",
       "5  20 a 24 anos    144214 170242  394.7\n",
       "6  25 a 29 anos    116531 161273  361.6\n",
       "7  30 a 34 anos     96706 142710  319.2\n",
       "8  35 a 39 anos     84397 116794  307.8\n",
       "9  40 a 44 anos     67150  98058  337.1\n",
       "10 45 a 49 anos     52303  80209  368.8\n",
       "11 50 a 54 anos     37964  64117  390.9\n",
       "12 55 a 59 anos     28333  47832  433.4\n",
       "13 60 a 64 anos     22255  35546  458.4\n",
       "14 65 a 69 anos     17423  24907  516.7\n",
       "15 70 a 74 anos     12871  17698  578.5\n",
       "16 75 a 79 anos      7831  11799  556.9\n",
       "17 80 anos ou mais   6863  11868 1050.9"
      ]
     },
     "metadata": {},
     "output_type": "display_data"
    }
   ],
   "source": [
    "# População em 2000, 2010 e óbitos em 2010 (Censo e SIM respectivamente)\n",
    "dataSource = \"https://raw.githubusercontent.com/cbeluzo/DM003/main/Lab2/AM-2000-2010-Censo-SIM-Masc.csv\"\n",
    "df = read.csv(dataSource, sep=';', header = T)\n",
    "\n",
    "# Variáveis auxiliares\n",
    "ultimaLinha = length(df$idade)\n",
    "periodoTempo = 10\n",
    "\n",
    "# Cálculo da média das mortes\n",
    "df$mortes = df$mortes/periodoTempo\n",
    "\n",
    "tab = df\n",
    "\n",
    "# tabAux apenas para formatação da tabela\n",
    "tabAux = tab\n",
    "colnames(tabAux) <- c(\"Idade\", \"N(t1)\", \"N(t2)\", \"D(x)\")\n",
    "tabAux"
   ]
  },
  {
   "cell_type": "markdown",
   "metadata": {
    "execution": {
     "iopub.execute_input": "2020-12-05T13:02:49.799921Z",
     "iopub.status.busy": "2020-12-05T13:02:49.799013Z",
     "iopub.status.idle": "2020-12-05T13:02:49.806622Z"
    }
   },
   "source": [
    "?????\n",
    "Após aplicação dos métodos, serão apresentados gráficos \n",
    "* Explique de forma sucinta o que cada método está fazendo (utilize as fórmulas como coadjuvantes nessa explicação se achar necessário).\n",
    "* Faça as interpretações dos seus resultados.\n",
    "* Construa e interprete também os gráficos diagnósticos.\n",
    "* Compare os q(x) encontrado com o resultado da sua tábua de vida observada construída em DM002.\n",
    "* Explique como você utilizaria esse resultado? O que você faz a partir disso?\n"
   ]
  },
  {
   "cell_type": "markdown",
   "metadata": {
    "execution": {
     "iopub.execute_input": "2020-12-05T13:42:13.496521Z",
     "iopub.status.busy": "2020-12-05T13:42:13.495430Z",
     "iopub.status.idle": "2020-12-05T13:42:13.501582Z"
    }
   },
   "source": [
    "# Experimentos"
   ]
  },
  {
   "cell_type": "markdown",
   "metadata": {
    "execution": {
     "iopub.execute_input": "2020-12-05T13:43:16.522397Z",
     "iopub.status.busy": "2020-12-05T13:43:16.521508Z",
     "iopub.status.idle": "2020-12-05T13:43:16.530950Z"
    }
   },
   "source": [
    "## Aplicação do método General Growth Balance (GGB)"
   ]
  },
  {
   "cell_type": "markdown",
   "metadata": {},
   "source": [
    "O método General Growth Balance (GGB) proposto por Hill (1987) é uma generalização do método Brass Growth Balance (BGB) proposto por Brass (1975), \n",
    "e é aplicado para populações não estáveis, mas mantém os demais pressupostos. Essa generalização pode ser usada quando se tem dados sobre os números por faixa etária de dois censos e uma estimativa do número de óbitos por faixa etária entre as datas dos dois censos. Com isso, é possível estimar as taxas de crescimento específicas por idade (diferente do pressuposto de estabilidadeda, onde consideram-se taxa intrínseca de crescimento constante). O método ainda pressupõe, no entanto, que a proporção de mortes notificadas e a completude das contagens censitárias são as mesmas em todas as idades adultas e que, além disso os dados são relatados com precisão. Por fim, assume-se ainda que a população está fechada para a migração, embora o método possa ser adaptado para acomodar a migração se houver dados disponíveis (GGB, 2020) . Resumindo, no método BGB assume-se os seguintes pressupostos:\n",
    "\n",
    " * População estável, embora essa suposição possa ser flexibilizada;\n",
    " * Integralidade do relato de mortes é similar para todas as idades acima de uma idade mínima (geralmente 15 anos);\n",
    " * População fechada à migração, embora esta suposição também possa ser flexibilizada, se a migração líquida for pequena em relação às taxas de mortalidade, ou se são conhecidas as estimativas do número de migrantes por idade, para que possa ser incluinda nas estimativas;\n",
    "\n",
    "já o método GGB:\n",
    "\n",
    " * População não estável;\n",
    " * A cobertura de cada censo é a mesma para todas as idades;\n",
    " * Demais pressupostos do BGB.\n",
    " \n",
    "A Tabela 2 apresenta o resultado dos cálculos das funções utilizadas pelo método GGB. Nesta tabala foram calculados:\n",
    "\n",
    "* N1(x+): População acumulada no início do período\n",
    "* N2(x+): População acumulada no fim do período\n",
    "* D(x+): Mortes acumuladas no fim do período\n",
    "* N(x): ?????\n",
    "* PYL(x+): Pessoas-anos vividos até idade x+ (Nx+), calcula por uma média geométrica;\n",
    "* r(x+): Taxa de crescimento entre P1+ e P2+\n",
    "* d(x+): Taxas específicas de mortalidade.\n",
    "* d(a1): Mortalidade residual.\n"
   ]
  },
  {
   "cell_type": "markdown",
   "metadata": {
    "execution": {
     "iopub.execute_input": "2020-12-05T14:28:50.616182Z",
     "iopub.status.busy": "2020-12-05T14:28:50.614963Z",
     "iopub.status.idle": "2020-12-05T14:28:50.622668Z"
    }
   },
   "source": [
    "Tabela 2. Funções do método GGB"
   ]
  },
  {
   "cell_type": "code",
   "execution_count": 3,
   "metadata": {
    "colab": {
     "base_uri": "https://localhost:8080/",
     "height": 435
    },
    "execution": {
     "iopub.execute_input": "2020-12-05T14:46:56.848703Z",
     "iopub.status.busy": "2020-12-05T14:46:56.847507Z",
     "iopub.status.idle": "2020-12-05T14:46:56.955934Z"
    },
    "id": "rWQvm2ErrK0o",
    "outputId": "cb95d176-572f-4fae-98bc-3e8b90f3f28e"
   },
   "outputs": [
    {
     "data": {
      "text/html": [
       "<table>\n",
       "<thead><tr><th scope=col>Idade</th><th scope=col>N1(x+)</th><th scope=col>N2(x+)</th><th scope=col>D(x+)</th><th scope=col>N(x)</th><th scope=col>PYL(x+)</th><th scope=col>r(x+)</th><th scope=col>d(x+)</th><th scope=col>d(a1)</th></tr></thead>\n",
       "<tbody>\n",
       "\t<tr><td>0 a 4 anos     </td><td>1416189        </td><td>1753179        </td><td>7604.3         </td><td>    0          </td><td>1575701        </td><td>0.02135        </td><td>0.00483        </td><td>-0.02135       </td></tr>\n",
       "\t<tr><td>5 a 9 anos     </td><td>1220454        </td><td>1565012        </td><td>6517.4         </td><td>39173          </td><td>1382037        </td><td>0.02487        </td><td>0.00472        </td><td> 0.00347       </td></tr>\n",
       "\t<tr><td>10 a 14 anos   </td><td>1032836        </td><td>1369017        </td><td>6424.9         </td><td>39072          </td><td>1189105        </td><td>0.02818        </td><td>0.00540        </td><td> 0.00468       </td></tr>\n",
       "\t<tr><td>15 a 19 anos   </td><td> 861908        </td><td>1165599        </td><td>6338.0         </td><td>35328          </td><td>1002317        </td><td>0.03018        </td><td>0.00632        </td><td> 0.00507       </td></tr>\n",
       "\t<tr><td>20 a 24 anos   </td><td> 694841        </td><td> 983053        </td><td>6074.9         </td><td>33729          </td><td> 826478        </td><td>0.03470        </td><td>0.00735        </td><td> 0.00611       </td></tr>\n",
       "\t<tr><td>25 a 29 anos   </td><td> 550627        </td><td> 812811        </td><td>5680.2         </td><td>30501          </td><td> 668996        </td><td>0.03894        </td><td>0.00849        </td><td> 0.00665       </td></tr>\n",
       "\t<tr><td>30 a 34 anos   </td><td> 434096        </td><td> 651538        </td><td>5318.6         </td><td>25792          </td><td> 531818        </td><td>0.04061        </td><td>0.01000        </td><td> 0.00789       </td></tr>\n",
       "\t<tr><td>35 a 39 anos   </td><td> 337390        </td><td> 508828        </td><td>4999.4         </td><td>21255          </td><td> 414335        </td><td>0.04109        </td><td>0.01207        </td><td> 0.01021       </td></tr>\n",
       "\t<tr><td>40 a 44 anos   </td><td> 252993        </td><td> 392034        </td><td>4691.6         </td><td>18194          </td><td> 314932        </td><td>0.04380        </td><td>0.01490        </td><td> 0.01397       </td></tr>\n",
       "\t<tr><td>45 a 49 anos   </td><td> 185843        </td><td> 293976        </td><td>4354.5         </td><td>14678          </td><td> 233738        </td><td>0.04586        </td><td>0.01863        </td><td> 0.01694       </td></tr>\n",
       "\t<tr><td>50 a 54 anos   </td><td> 133540        </td><td> 213767        </td><td>3985.7         </td><td>11582          </td><td> 168957        </td><td>0.04705        </td><td>0.02359        </td><td> 0.02150       </td></tr>\n",
       "\t<tr><td>55 a 59 anos   </td><td>  95576        </td><td> 149650        </td><td>3594.8         </td><td> 8523          </td><td> 119595        </td><td>0.04484        </td><td>0.03006        </td><td> 0.02643       </td></tr>\n",
       "\t<tr><td>60 a 64 anos   </td><td>  67243        </td><td> 101818        </td><td>3161.4         </td><td> 6347          </td><td>  82744        </td><td>0.04149        </td><td>0.03821        </td><td> 0.03522       </td></tr>\n",
       "\t<tr><td>65 a 69 anos   </td><td>  44988        </td><td>  66272        </td><td>2703.0         </td><td> 4709          </td><td>  54603        </td><td>0.03874        </td><td>0.04950        </td><td> 0.04750       </td></tr>\n",
       "\t<tr><td>70 a 74 anos   </td><td>  27565        </td><td>  41365        </td><td>2186.3         </td><td> 3512          </td><td>  33767        </td><td>0.04059        </td><td>0.06475        </td><td> 0.06342       </td></tr>\n",
       "\t<tr><td>75 a 79 anos   </td><td>  14694        </td><td>  23667        </td><td>1607.8         </td><td> 2465          </td><td>  18648        </td><td>0.04766        </td><td>0.08622        </td><td> 0.08453       </td></tr>\n",
       "\t<tr><td>80 anos ou mais</td><td>   6863        </td><td>  11868        </td><td>1050.9         </td><td> 1928          </td><td>   9025        </td><td>0.05477        </td><td>0.11644        </td><td> 0.15886       </td></tr>\n",
       "</tbody>\n",
       "</table>\n"
      ],
      "text/latex": [
       "\\begin{tabular}{r|lllllllll}\n",
       " Idade & N1(x+) & N2(x+) & D(x+) & N(x) & PYL(x+) & r(x+) & d(x+) & d(a1)\\\\\n",
       "\\hline\n",
       "\t 0 a 4 anos      & 1416189         & 1753179         & 7604.3          &     0           & 1575701         & 0.02135         & 0.00483         & -0.02135       \\\\\n",
       "\t 5 a 9 anos      & 1220454         & 1565012         & 6517.4          & 39173           & 1382037         & 0.02487         & 0.00472         &  0.00347       \\\\\n",
       "\t 10 a 14 anos    & 1032836         & 1369017         & 6424.9          & 39072           & 1189105         & 0.02818         & 0.00540         &  0.00468       \\\\\n",
       "\t 15 a 19 anos    &  861908         & 1165599         & 6338.0          & 35328           & 1002317         & 0.03018         & 0.00632         &  0.00507       \\\\\n",
       "\t 20 a 24 anos    &  694841         &  983053         & 6074.9          & 33729           &  826478         & 0.03470         & 0.00735         &  0.00611       \\\\\n",
       "\t 25 a 29 anos    &  550627         &  812811         & 5680.2          & 30501           &  668996         & 0.03894         & 0.00849         &  0.00665       \\\\\n",
       "\t 30 a 34 anos    &  434096         &  651538         & 5318.6          & 25792           &  531818         & 0.04061         & 0.01000         &  0.00789       \\\\\n",
       "\t 35 a 39 anos    &  337390         &  508828         & 4999.4          & 21255           &  414335         & 0.04109         & 0.01207         &  0.01021       \\\\\n",
       "\t 40 a 44 anos    &  252993         &  392034         & 4691.6          & 18194           &  314932         & 0.04380         & 0.01490         &  0.01397       \\\\\n",
       "\t 45 a 49 anos    &  185843         &  293976         & 4354.5          & 14678           &  233738         & 0.04586         & 0.01863         &  0.01694       \\\\\n",
       "\t 50 a 54 anos    &  133540         &  213767         & 3985.7          & 11582           &  168957         & 0.04705         & 0.02359         &  0.02150       \\\\\n",
       "\t 55 a 59 anos    &   95576         &  149650         & 3594.8          &  8523           &  119595         & 0.04484         & 0.03006         &  0.02643       \\\\\n",
       "\t 60 a 64 anos    &   67243         &  101818         & 3161.4          &  6347           &   82744         & 0.04149         & 0.03821         &  0.03522       \\\\\n",
       "\t 65 a 69 anos    &   44988         &   66272         & 2703.0          &  4709           &   54603         & 0.03874         & 0.04950         &  0.04750       \\\\\n",
       "\t 70 a 74 anos    &   27565         &   41365         & 2186.3          &  3512           &   33767         & 0.04059         & 0.06475         &  0.06342       \\\\\n",
       "\t 75 a 79 anos    &   14694         &   23667         & 1607.8          &  2465           &   18648         & 0.04766         & 0.08622         &  0.08453       \\\\\n",
       "\t 80 anos ou mais &    6863         &   11868         & 1050.9          &  1928           &    9025         & 0.05477         & 0.11644         &  0.15886       \\\\\n",
       "\\end{tabular}\n"
      ],
      "text/markdown": [
       "\n",
       "| Idade | N1(x+) | N2(x+) | D(x+) | N(x) | PYL(x+) | r(x+) | d(x+) | d(a1) |\n",
       "|---|---|---|---|---|---|---|---|---|\n",
       "| 0 a 4 anos      | 1416189         | 1753179         | 7604.3          |     0           | 1575701         | 0.02135         | 0.00483         | -0.02135        |\n",
       "| 5 a 9 anos      | 1220454         | 1565012         | 6517.4          | 39173           | 1382037         | 0.02487         | 0.00472         |  0.00347        |\n",
       "| 10 a 14 anos    | 1032836         | 1369017         | 6424.9          | 39072           | 1189105         | 0.02818         | 0.00540         |  0.00468        |\n",
       "| 15 a 19 anos    |  861908         | 1165599         | 6338.0          | 35328           | 1002317         | 0.03018         | 0.00632         |  0.00507        |\n",
       "| 20 a 24 anos    |  694841         |  983053         | 6074.9          | 33729           |  826478         | 0.03470         | 0.00735         |  0.00611        |\n",
       "| 25 a 29 anos    |  550627         |  812811         | 5680.2          | 30501           |  668996         | 0.03894         | 0.00849         |  0.00665        |\n",
       "| 30 a 34 anos    |  434096         |  651538         | 5318.6          | 25792           |  531818         | 0.04061         | 0.01000         |  0.00789        |\n",
       "| 35 a 39 anos    |  337390         |  508828         | 4999.4          | 21255           |  414335         | 0.04109         | 0.01207         |  0.01021        |\n",
       "| 40 a 44 anos    |  252993         |  392034         | 4691.6          | 18194           |  314932         | 0.04380         | 0.01490         |  0.01397        |\n",
       "| 45 a 49 anos    |  185843         |  293976         | 4354.5          | 14678           |  233738         | 0.04586         | 0.01863         |  0.01694        |\n",
       "| 50 a 54 anos    |  133540         |  213767         | 3985.7          | 11582           |  168957         | 0.04705         | 0.02359         |  0.02150        |\n",
       "| 55 a 59 anos    |   95576         |  149650         | 3594.8          |  8523           |  119595         | 0.04484         | 0.03006         |  0.02643        |\n",
       "| 60 a 64 anos    |   67243         |  101818         | 3161.4          |  6347           |   82744         | 0.04149         | 0.03821         |  0.03522        |\n",
       "| 65 a 69 anos    |   44988         |   66272         | 2703.0          |  4709           |   54603         | 0.03874         | 0.04950         |  0.04750        |\n",
       "| 70 a 74 anos    |   27565         |   41365         | 2186.3          |  3512           |   33767         | 0.04059         | 0.06475         |  0.06342        |\n",
       "| 75 a 79 anos    |   14694         |   23667         | 1607.8          |  2465           |   18648         | 0.04766         | 0.08622         |  0.08453        |\n",
       "| 80 anos ou mais |    6863         |   11868         | 1050.9          |  1928           |    9025         | 0.05477         | 0.11644         |  0.15886        |\n",
       "\n"
      ],
      "text/plain": [
       "   Idade           N1(x+)  N2(x+)  D(x+)  N(x)  PYL(x+) r(x+)   d(x+)  \n",
       "1  0 a 4 anos      1416189 1753179 7604.3     0 1575701 0.02135 0.00483\n",
       "2  5 a 9 anos      1220454 1565012 6517.4 39173 1382037 0.02487 0.00472\n",
       "3  10 a 14 anos    1032836 1369017 6424.9 39072 1189105 0.02818 0.00540\n",
       "4  15 a 19 anos     861908 1165599 6338.0 35328 1002317 0.03018 0.00632\n",
       "5  20 a 24 anos     694841  983053 6074.9 33729  826478 0.03470 0.00735\n",
       "6  25 a 29 anos     550627  812811 5680.2 30501  668996 0.03894 0.00849\n",
       "7  30 a 34 anos     434096  651538 5318.6 25792  531818 0.04061 0.01000\n",
       "8  35 a 39 anos     337390  508828 4999.4 21255  414335 0.04109 0.01207\n",
       "9  40 a 44 anos     252993  392034 4691.6 18194  314932 0.04380 0.01490\n",
       "10 45 a 49 anos     185843  293976 4354.5 14678  233738 0.04586 0.01863\n",
       "11 50 a 54 anos     133540  213767 3985.7 11582  168957 0.04705 0.02359\n",
       "12 55 a 59 anos      95576  149650 3594.8  8523  119595 0.04484 0.03006\n",
       "13 60 a 64 anos      67243  101818 3161.4  6347   82744 0.04149 0.03821\n",
       "14 65 a 69 anos      44988   66272 2703.0  4709   54603 0.03874 0.04950\n",
       "15 70 a 74 anos      27565   41365 2186.3  3512   33767 0.04059 0.06475\n",
       "16 75 a 79 anos      14694   23667 1607.8  2465   18648 0.04766 0.08622\n",
       "17 80 anos ou mais    6863   11868 1050.9  1928    9025 0.05477 0.11644\n",
       "   d(a1)   \n",
       "1  -0.02135\n",
       "2   0.00347\n",
       "3   0.00468\n",
       "4   0.00507\n",
       "5   0.00611\n",
       "6   0.00665\n",
       "7   0.00789\n",
       "8   0.01021\n",
       "9   0.01397\n",
       "10  0.01694\n",
       "11  0.02150\n",
       "12  0.02643\n",
       "13  0.03522\n",
       "14  0.04750\n",
       "15  0.06342\n",
       "16  0.08453\n",
       "17  0.15886"
      ]
     },
     "metadata": {},
     "output_type": "display_data"
    }
   ],
   "source": [
    "tab$pop1_a_mais = (rev(cumsum(rev(tab$pop1))))\n",
    "tab$pop2_a_mais = (rev(cumsum(rev(tab$pop2))))\n",
    "tab$morte_a_mais = (rev(cumsum(rev(tab$mortes))))\n",
    "\n",
    "# Cria coluna \"anivers\", e atribui o valor zero para todas as linhas. \n",
    "tab$aniversario = 0\n",
    "\n",
    "# Retira-se uma média geométrica a partir da segunda linha. A primeira linha permanece 0. \n",
    "for (i in 2:ultimaLinha) {\n",
    "  popFaixaAnterior = as.numeric(tab$pop1[i-1]) \n",
    "  popFaixaAtual = as.numeric(tab$pop2[i])\n",
    "  tab$aniversario[i] = round(0.2 * sqrt(popFaixaAnterior * popFaixaAtual))\n",
    "}\n",
    "\n",
    "# Pessoas-anos vividos até idade a+ (Na+). Também uma média geométrica \n",
    "tab$Lx_a_mais = round(sqrt(as.numeric(tab$pop1_a_mais) * as.numeric(tab$pop2_a_mais)))\n",
    "\n",
    "# Taxa de crescimento entre P1+ e P2+\n",
    "tab$cresc_mais = round(log(tab$pop2_a_mais/tab$pop1_a_mais)/periodoTempo, 5)\n",
    "\n",
    "# d(a+) = Da+/Na+. Taxa específica de mortalidade.\n",
    "tab$d_a_mais = round(tab$morte_a_mais/tab$Lx_a_mais, 5)\n",
    "\n",
    "# e(a+)-r(a+), chamar d(a+).1. Esse é o residual. Mortalidade residual. \n",
    "tab$d_a_1 = round((tab$aniversario/tab$Lx_a_mais) - tab$cresc_mais, 5)\n",
    "\n",
    "tabAux = tab\n",
    "colnames(tabAux) <- c(\"Idade\", \"N(t1)\", \"N(t2)\", \"D(x)\", \"N1(x+)\", \"N2(x+)\", \"D(x+)\", \"N(x)\", \"PYL(x+)\", \"r(x+)\", \"d(x+)\",\t\"d(a1)\")\n",
    "\n",
    "tabAux[c(1,5,6,7,8,9,10,11,12)]"
   ]
  },
  {
   "cell_type": "markdown",
   "metadata": {
    "id": "qUseKyI4vtyh"
   },
   "source": [
    "### 3 - Parametros para análise gráfica"
   ]
  },
  {
   "cell_type": "code",
   "execution_count": null,
   "metadata": {
    "colab": {
     "base_uri": "https://localhost:8080/",
     "height": 1000
    },
    "id": "3RsAFSIrvsCi",
    "outputId": "fe8abaa7-b42d-40e8-f467-77ab60139557"
   },
   "outputs": [
    {
     "name": "stdout",
     "output_type": "stream",
     "text": [
      "Fator de correção:  0.9642345 \n",
      "Grau de Cobertura:  1.037092 \n",
      "Intercepto:  -0.001253914 \n",
      "Grau de Cobertura Intercensitário:  0.9875391 \n",
      "Valores Residuais:  \n"
     ]
    },
    {
     "data": {
      "text/html": [
       "<table>\n",
       "<caption>A data.frame: 17 × 2</caption>\n",
       "<thead>\n",
       "\t<tr><th scope=col>idade</th><th scope=col>ajusteV</th></tr>\n",
       "\t<tr><th scope=col>&lt;chr&gt;</th><th scope=col>&lt;dbl&gt;</th></tr>\n",
       "</thead>\n",
       "<tbody>\n",
       "\t<tr><td>0 a 4 anos     </td><td>0.003403338</td></tr>\n",
       "\t<tr><td>5 a 9 anos     </td><td>0.003297272</td></tr>\n",
       "\t<tr><td>10 a 14 anos   </td><td>0.003952952</td></tr>\n",
       "\t<tr><td>15 a 19 anos   </td><td>0.004840047</td></tr>\n",
       "\t<tr><td>20 a 24 anos   </td><td>0.005833209</td></tr>\n",
       "\t<tr><td>25 a 29 anos   </td><td>0.006932436</td></tr>\n",
       "\t<tr><td>30 a 34 anos   </td><td>0.008388430</td></tr>\n",
       "\t<tr><td>35 a 39 anos   </td><td>0.010384396</td></tr>\n",
       "\t<tr><td>40 a 44 anos   </td><td>0.013113179</td></tr>\n",
       "\t<tr><td>45 a 49 anos   </td><td>0.016709774</td></tr>\n",
       "\t<tr><td>50 a 54 anos   </td><td>0.021492377</td></tr>\n",
       "\t<tr><td>55 a 59 anos   </td><td>0.027730974</td></tr>\n",
       "\t<tr><td>60 a 64 anos   </td><td>0.035589485</td></tr>\n",
       "\t<tr><td>65 a 69 anos   </td><td>0.046475692</td></tr>\n",
       "\t<tr><td>70 a 74 anos   </td><td>0.061180268</td></tr>\n",
       "\t<tr><td>75 a 79 anos   </td><td>0.081882382</td></tr>\n",
       "\t<tr><td>80 anos ou mais</td><td>0.111021548</td></tr>\n",
       "</tbody>\n",
       "</table>\n"
      ],
      "text/latex": [
       "A data.frame: 17 × 2\n",
       "\\begin{tabular}{ll}\n",
       " idade & ajusteV\\\\\n",
       " <chr> & <dbl>\\\\\n",
       "\\hline\n",
       "\t 0 a 4 anos      & 0.003403338\\\\\n",
       "\t 5 a 9 anos      & 0.003297272\\\\\n",
       "\t 10 a 14 anos    & 0.003952952\\\\\n",
       "\t 15 a 19 anos    & 0.004840047\\\\\n",
       "\t 20 a 24 anos    & 0.005833209\\\\\n",
       "\t 25 a 29 anos    & 0.006932436\\\\\n",
       "\t 30 a 34 anos    & 0.008388430\\\\\n",
       "\t 35 a 39 anos    & 0.010384396\\\\\n",
       "\t 40 a 44 anos    & 0.013113179\\\\\n",
       "\t 45 a 49 anos    & 0.016709774\\\\\n",
       "\t 50 a 54 anos    & 0.021492377\\\\\n",
       "\t 55 a 59 anos    & 0.027730974\\\\\n",
       "\t 60 a 64 anos    & 0.035589485\\\\\n",
       "\t 65 a 69 anos    & 0.046475692\\\\\n",
       "\t 70 a 74 anos    & 0.061180268\\\\\n",
       "\t 75 a 79 anos    & 0.081882382\\\\\n",
       "\t 80 anos ou mais & 0.111021548\\\\\n",
       "\\end{tabular}\n"
      ],
      "text/markdown": [
       "\n",
       "A data.frame: 17 × 2\n",
       "\n",
       "| idade &lt;chr&gt; | ajusteV &lt;dbl&gt; |\n",
       "|---|---|\n",
       "| 0 a 4 anos      | 0.003403338 |\n",
       "| 5 a 9 anos      | 0.003297272 |\n",
       "| 10 a 14 anos    | 0.003952952 |\n",
       "| 15 a 19 anos    | 0.004840047 |\n",
       "| 20 a 24 anos    | 0.005833209 |\n",
       "| 25 a 29 anos    | 0.006932436 |\n",
       "| 30 a 34 anos    | 0.008388430 |\n",
       "| 35 a 39 anos    | 0.010384396 |\n",
       "| 40 a 44 anos    | 0.013113179 |\n",
       "| 45 a 49 anos    | 0.016709774 |\n",
       "| 50 a 54 anos    | 0.021492377 |\n",
       "| 55 a 59 anos    | 0.027730974 |\n",
       "| 60 a 64 anos    | 0.035589485 |\n",
       "| 65 a 69 anos    | 0.046475692 |\n",
       "| 70 a 74 anos    | 0.061180268 |\n",
       "| 75 a 79 anos    | 0.081882382 |\n",
       "| 80 anos ou mais | 0.111021548 |\n",
       "\n"
      ],
      "text/plain": [
       "   idade           ajusteV    \n",
       "1  0 a 4 anos      0.003403338\n",
       "2  5 a 9 anos      0.003297272\n",
       "3  10 a 14 anos    0.003952952\n",
       "4  15 a 19 anos    0.004840047\n",
       "5  20 a 24 anos    0.005833209\n",
       "6  25 a 29 anos    0.006932436\n",
       "7  30 a 34 anos    0.008388430\n",
       "8  35 a 39 anos    0.010384396\n",
       "9  40 a 44 anos    0.013113179\n",
       "10 45 a 49 anos    0.016709774\n",
       "11 50 a 54 anos    0.021492377\n",
       "12 55 a 59 anos    0.027730974\n",
       "13 60 a 64 anos    0.035589485\n",
       "14 65 a 69 anos    0.046475692\n",
       "15 70 a 74 anos    0.061180268\n",
       "16 75 a 79 anos    0.081882382\n",
       "17 80 anos ou mais 0.111021548"
      ]
     },
     "metadata": {
      "tags": []
     },
     "output_type": "display_data"
    }
   ],
   "source": [
    "# Valor do fator de correção.\n",
    "fatorC = (sd(tab$d_a_1[2:14]) / sd(tab$d_a_mais[2:14]))\n",
    "cat(\"Fator de correção: \", fatorC, \"\\n\")\n",
    "\n",
    "# O grau de cobertura é o inverso da inclinação da reta, inverso é do fator de correção\n",
    "grauCobertura = 1 / fatorC\n",
    "cat(\"Grau de Cobertura: \", grauCobertura, \"\\n\")\n",
    "\n",
    "# Intercepto\n",
    "intercepto = mean(tab$d_a_1[4:14]) - fatorC * mean(tab$d_a_mais[4:14])\n",
    "cat(\"Intercepto: \", intercepto, \"\\n\")\n",
    "\n",
    "# Estimando o grau de cobertura da relação do 1o e 2o Censos\n",
    "coberturaCensos = exp(intercepto * periodoTempo)\n",
    "cat(\"Grau de Cobertura Intercensitário: \", coberturaCensos, \"\\n\")\n",
    "\n",
    "\n",
    "# Estimando valores de ajustes com base no intercepto e inclinação\n",
    "# valores residuais\n",
    "tab$ajusteV = intercepto + fatorC * tab$d_a_mais\n",
    "cat(\"Valores Residuais: \", \"\\n\")\n",
    "tab[c(1,13)]"
   ]
  },
  {
   "cell_type": "markdown",
   "metadata": {
    "id": "ZlRARsDsEQ6z"
   },
   "source": [
    "### 4 - Cáculo de probabilidade de morte q(x)"
   ]
  },
  {
   "cell_type": "code",
   "execution_count": null,
   "metadata": {
    "colab": {
     "base_uri": "https://localhost:8080/",
     "height": 435
    },
    "id": "1QocYiudAyuK",
    "jupyter": {
     "source_hidden": true
    },
    "outputId": "3a1b3488-e531-46c5-fb1a-e6ccc22984df"
   },
   "outputs": [
    {
     "data": {
      "text/html": [
       "<table>\n",
       "<caption>A data.frame: 17 × 5</caption>\n",
       "<thead>\n",
       "\t<tr><th scope=col>idade</th><th scope=col>temj</th><th scope=col>ggbadj</th><th scope=col>q_a_obs</th><th scope=col>q_a_adj</th></tr>\n",
       "\t<tr><th scope=col>&lt;chr&gt;</th><th scope=col>&lt;dbl&gt;</th><th scope=col>&lt;dbl&gt;</th><th scope=col>&lt;dbl&gt;</th><th scope=col>&lt;dbl&gt;</th></tr>\n",
       "</thead>\n",
       "<tbody>\n",
       "\t<tr><td>0 a 4 anos     </td><td>0.0056634743</td><td>0.0054609172</td><td>0.02848</td><td>0.02745</td></tr>\n",
       "\t<tr><td>5 a 9 anos     </td><td>0.0004823713</td><td>0.0004651190</td><td>0.00241</td><td>0.00233</td></tr>\n",
       "\t<tr><td>10 a 14 anos   </td><td>0.0004660342</td><td>0.0004493662</td><td>0.00233</td><td>0.00225</td></tr>\n",
       "\t<tr><td>15 a 19 anos   </td><td>0.0015065708</td><td>0.0014526876</td><td>0.00754</td><td>0.00727</td></tr>\n",
       "\t<tr><td>20 a 24 anos   </td><td>0.0025190187</td><td>0.0024289247</td><td>0.01263</td><td>0.01217</td></tr>\n",
       "\t<tr><td>25 a 29 anos   </td><td>0.0026377025</td><td>0.0025433637</td><td>0.01322</td><td>0.01275</td></tr>\n",
       "\t<tr><td>30 a 34 anos   </td><td>0.0027171276</td><td>0.0026199481</td><td>0.01362</td><td>0.01313</td></tr>\n",
       "\t<tr><td>35 a 39 anos   </td><td>0.0031002286</td><td>0.0029893473</td><td>0.01555</td><td>0.01499</td></tr>\n",
       "\t<tr><td>40 a 44 anos   </td><td>0.0041542405</td><td>0.0040056619</td><td>0.02086</td><td>0.02011</td></tr>\n",
       "\t<tr><td>45 a 49 anos   </td><td>0.0056939941</td><td>0.0054903455</td><td>0.02863</td><td>0.02760</td></tr>\n",
       "\t<tr><td>50 a 54 anos   </td><td>0.0079230598</td><td>0.0076396874</td><td>0.03993</td><td>0.03849</td></tr>\n",
       "\t<tr><td>55 a 59 anos   </td><td>0.0117730150</td><td>0.0113519469</td><td>0.05956</td><td>0.05740</td></tr>\n",
       "\t<tr><td>60 a 64 anos   </td><td>0.0162980872</td><td>0.0157151776</td><td>0.08282</td><td>0.07981</td></tr>\n",
       "\t<tr><td>65 a 69 anos   </td><td>0.0248031874</td><td>0.0239160885</td><td>0.12709</td><td>0.12244</td></tr>\n",
       "\t<tr><td>70 a 74 anos   </td><td>0.0383290267</td><td>0.0369581691</td><td>0.19899</td><td>0.19162</td></tr>\n",
       "\t<tr><td>75 a 79 anos   </td><td>0.0579379942</td><td>0.0558658116</td><td>0.30647</td><td>0.29493</td></tr>\n",
       "\t<tr><td>80 anos ou mais</td><td>0.1164432133</td><td>0.1122785610</td><td>0.65001</td><td>0.62443</td></tr>\n",
       "</tbody>\n",
       "</table>\n"
      ],
      "text/latex": [
       "A data.frame: 17 × 5\n",
       "\\begin{tabular}{lllll}\n",
       " idade & temj & ggbadj & q\\_a\\_obs & q\\_a\\_adj\\\\\n",
       " <chr> & <dbl> & <dbl> & <dbl> & <dbl>\\\\\n",
       "\\hline\n",
       "\t 0 a 4 anos      & 0.0056634743 & 0.0054609172 & 0.02848 & 0.02745\\\\\n",
       "\t 5 a 9 anos      & 0.0004823713 & 0.0004651190 & 0.00241 & 0.00233\\\\\n",
       "\t 10 a 14 anos    & 0.0004660342 & 0.0004493662 & 0.00233 & 0.00225\\\\\n",
       "\t 15 a 19 anos    & 0.0015065708 & 0.0014526876 & 0.00754 & 0.00727\\\\\n",
       "\t 20 a 24 anos    & 0.0025190187 & 0.0024289247 & 0.01263 & 0.01217\\\\\n",
       "\t 25 a 29 anos    & 0.0026377025 & 0.0025433637 & 0.01322 & 0.01275\\\\\n",
       "\t 30 a 34 anos    & 0.0027171276 & 0.0026199481 & 0.01362 & 0.01313\\\\\n",
       "\t 35 a 39 anos    & 0.0031002286 & 0.0029893473 & 0.01555 & 0.01499\\\\\n",
       "\t 40 a 44 anos    & 0.0041542405 & 0.0040056619 & 0.02086 & 0.02011\\\\\n",
       "\t 45 a 49 anos    & 0.0056939941 & 0.0054903455 & 0.02863 & 0.02760\\\\\n",
       "\t 50 a 54 anos    & 0.0079230598 & 0.0076396874 & 0.03993 & 0.03849\\\\\n",
       "\t 55 a 59 anos    & 0.0117730150 & 0.0113519469 & 0.05956 & 0.05740\\\\\n",
       "\t 60 a 64 anos    & 0.0162980872 & 0.0157151776 & 0.08282 & 0.07981\\\\\n",
       "\t 65 a 69 anos    & 0.0248031874 & 0.0239160885 & 0.12709 & 0.12244\\\\\n",
       "\t 70 a 74 anos    & 0.0383290267 & 0.0369581691 & 0.19899 & 0.19162\\\\\n",
       "\t 75 a 79 anos    & 0.0579379942 & 0.0558658116 & 0.30647 & 0.29493\\\\\n",
       "\t 80 anos ou mais & 0.1164432133 & 0.1122785610 & 0.65001 & 0.62443\\\\\n",
       "\\end{tabular}\n"
      ],
      "text/markdown": [
       "\n",
       "A data.frame: 17 × 5\n",
       "\n",
       "| idade &lt;chr&gt; | temj &lt;dbl&gt; | ggbadj &lt;dbl&gt; | q_a_obs &lt;dbl&gt; | q_a_adj &lt;dbl&gt; |\n",
       "|---|---|---|---|---|\n",
       "| 0 a 4 anos      | 0.0056634743 | 0.0054609172 | 0.02848 | 0.02745 |\n",
       "| 5 a 9 anos      | 0.0004823713 | 0.0004651190 | 0.00241 | 0.00233 |\n",
       "| 10 a 14 anos    | 0.0004660342 | 0.0004493662 | 0.00233 | 0.00225 |\n",
       "| 15 a 19 anos    | 0.0015065708 | 0.0014526876 | 0.00754 | 0.00727 |\n",
       "| 20 a 24 anos    | 0.0025190187 | 0.0024289247 | 0.01263 | 0.01217 |\n",
       "| 25 a 29 anos    | 0.0026377025 | 0.0025433637 | 0.01322 | 0.01275 |\n",
       "| 30 a 34 anos    | 0.0027171276 | 0.0026199481 | 0.01362 | 0.01313 |\n",
       "| 35 a 39 anos    | 0.0031002286 | 0.0029893473 | 0.01555 | 0.01499 |\n",
       "| 40 a 44 anos    | 0.0041542405 | 0.0040056619 | 0.02086 | 0.02011 |\n",
       "| 45 a 49 anos    | 0.0056939941 | 0.0054903455 | 0.02863 | 0.02760 |\n",
       "| 50 a 54 anos    | 0.0079230598 | 0.0076396874 | 0.03993 | 0.03849 |\n",
       "| 55 a 59 anos    | 0.0117730150 | 0.0113519469 | 0.05956 | 0.05740 |\n",
       "| 60 a 64 anos    | 0.0162980872 | 0.0157151776 | 0.08282 | 0.07981 |\n",
       "| 65 a 69 anos    | 0.0248031874 | 0.0239160885 | 0.12709 | 0.12244 |\n",
       "| 70 a 74 anos    | 0.0383290267 | 0.0369581691 | 0.19899 | 0.19162 |\n",
       "| 75 a 79 anos    | 0.0579379942 | 0.0558658116 | 0.30647 | 0.29493 |\n",
       "| 80 anos ou mais | 0.1164432133 | 0.1122785610 | 0.65001 | 0.62443 |\n",
       "\n"
      ],
      "text/plain": [
       "   idade           temj         ggbadj       q_a_obs q_a_adj\n",
       "1  0 a 4 anos      0.0056634743 0.0054609172 0.02848 0.02745\n",
       "2  5 a 9 anos      0.0004823713 0.0004651190 0.00241 0.00233\n",
       "3  10 a 14 anos    0.0004660342 0.0004493662 0.00233 0.00225\n",
       "4  15 a 19 anos    0.0015065708 0.0014526876 0.00754 0.00727\n",
       "5  20 a 24 anos    0.0025190187 0.0024289247 0.01263 0.01217\n",
       "6  25 a 29 anos    0.0026377025 0.0025433637 0.01322 0.01275\n",
       "7  30 a 34 anos    0.0027171276 0.0026199481 0.01362 0.01313\n",
       "8  35 a 39 anos    0.0031002286 0.0029893473 0.01555 0.01499\n",
       "9  40 a 44 anos    0.0041542405 0.0040056619 0.02086 0.02011\n",
       "10 45 a 49 anos    0.0056939941 0.0054903455 0.02863 0.02760\n",
       "11 50 a 54 anos    0.0079230598 0.0076396874 0.03993 0.03849\n",
       "12 55 a 59 anos    0.0117730150 0.0113519469 0.05956 0.05740\n",
       "13 60 a 64 anos    0.0162980872 0.0157151776 0.08282 0.07981\n",
       "14 65 a 69 anos    0.0248031874 0.0239160885 0.12709 0.12244\n",
       "15 70 a 74 anos    0.0383290267 0.0369581691 0.19899 0.19162\n",
       "16 75 a 79 anos    0.0579379942 0.0558658116 0.30647 0.29493\n",
       "17 80 anos ou mais 0.1164432133 0.1122785610 0.65001 0.62443"
      ]
     },
     "metadata": {
      "tags": []
     },
     "output_type": "display_data"
    }
   ],
   "source": [
    "#Taxa específica de mortalidade observada\n",
    "tab$temj = tab$mortes/round(sqrt(as.numeric(tab$pop1)*as.numeric(tab$pop2)))\n",
    "\n",
    "# Taxa específica de mortalidade ajustada \n",
    "tab$ggbadj = tab$temj/grauCobertura\n",
    "\n",
    "# 5qa observado\n",
    "tab$q_a_obs = round(tab$temj*(10/2+5*tab$temj), 5)\n",
    "\n",
    "# 5qa ajustado GGB\n",
    "tab$q_a_adj = round(tab$ggbadj*(10/2+5*tab$ggbadj), 5)\n",
    "\n",
    "tab[c(1,14,15,16,17)]"
   ]
  },
  {
   "cell_type": "markdown",
   "metadata": {
    "id": "_nmCSXatiPne"
   },
   "source": [
    "### 5 - Gráfico de diagnostico GGB\n"
   ]
  },
  {
   "cell_type": "code",
   "execution_count": null,
   "metadata": {
    "colab": {
     "base_uri": "https://localhost:8080/",
     "height": 437
    },
    "id": "S4D1Jl9sxKJW",
    "jupyter": {
     "source_hidden": true
    },
    "outputId": "969a9086-2554-412e-8241-229b20e98c1f"
   },
   "outputs": [
    {
     "data": {
      "image/png": "[encoded data removed]",
      "text/plain": [
       "Plot with title “Gráfico de diagnostico GGB”"
      ]
     },
     "metadata": {
      "image/png": {
       "height": 420,
       "width": 420
      },
      "tags": []
     },
     "output_type": "display_data"
    }
   ],
   "source": [
    "plot(tab$d_a_mais[2:14], ajusteV[2:14], \n",
    "  type='b', pch=15, col='red', \n",
    "  xlim = c(0,0.09),\n",
    "  ylim = c(-0.02,0.07),\n",
    "  main = 'Gráfico de diagnostico GGB', xlab = 'd(a+)', ylab='e(a+) - r(a+)'\n",
    ")\n",
    "\n",
    "# Comparando os residuais com  as mortes da+\n",
    "lines(tab$d_a_mais[2:14], tab$d_a_1[2:14], \n",
    "  type='b', col='blue', pch=15\n",
    ")"
   ]
  },
  {
   "cell_type": "markdown",
   "metadata": {
    "id": "RQeuOyeB0e8b"
   },
   "source": [
    "# **3. Estimando o Bennett e Horiuchi** (Geração extinta)\n"
   ]
  },
  {
   "cell_type": "code",
   "execution_count": null,
   "metadata": {
    "colab": {
     "base_uri": "https://localhost:8080/",
     "height": 96
    },
    "id": "kqOJDoSH_zr9",
    "jupyter": {
     "source_hidden": true
    },
    "outputId": "7ad75049-54d2-4ee9-bf85-84bb0db7827c"
   },
   "outputs": [
    {
     "ename": "ERROR",
     "evalue": "ignored",
     "output_type": "error",
     "traceback": [
      "Error in eval(expr, envir, enclos): object 'mort_mulheres_colombia' not found\nTraceback:\n"
     ]
    }
   ],
   "source": [
    "# Recuperando os dados originais\n",
    "tab = mort_mulheres_colombia\n",
    "tab"
   ]
  },
  {
   "cell_type": "code",
   "execution_count": null,
   "metadata": {
    "colab": {
     "base_uri": "https://localhost:8080/",
     "height": 435
    },
    "id": "ePCugA7-GRRZ",
    "jupyter": {
     "source_hidden": true
    },
    "outputId": "5b77312d-e13e-47f9-9607-ca575b359da9"
   },
   "outputs": [
    {
     "data": {
      "text/html": [
       "<table>\n",
       "<caption>A data.frame: 17 × 7</caption>\n",
       "<thead>\n",
       "\t<tr><th scope=col>idade</th><th scope=col>pop1</th><th scope=col>ano1</th><th scope=col>pop2</th><th scope=col>ano2</th><th scope=col>mortes</th><th scope=col>aniversario</th></tr>\n",
       "\t<tr><th scope=col>&lt;chr&gt;</th><th scope=col>&lt;int&gt;</th><th scope=col>&lt;int&gt;</th><th scope=col>&lt;int&gt;</th><th scope=col>&lt;int&gt;</th><th scope=col>&lt;dbl&gt;</th><th scope=col>&lt;dbl&gt;</th></tr>\n",
       "</thead>\n",
       "<tbody>\n",
       "\t<tr><td> 0-4  </td><td>263616</td><td>1985</td><td>378305</td><td>1993</td><td>13423.9</td><td>    0</td></tr>\n",
       "\t<tr><td> 5-9  </td><td>242587</td><td>1985</td><td>371652</td><td>1993</td><td> 2591.8</td><td>62601</td></tr>\n",
       "\t<tr><td> 10-14</td><td>149369</td><td>1985</td><td>274823</td><td>1993</td><td> 1092.6</td><td>51640</td></tr>\n",
       "\t<tr><td> 15-19</td><td>167870</td><td>1985</td><td>274725</td><td>1993</td><td> 1573.6</td><td>40514</td></tr>\n",
       "\t<tr><td> 20-24</td><td>138787</td><td>1985</td><td>225284</td><td>1993</td><td> 2550.9</td><td>38894</td></tr>\n",
       "\t<tr><td> 25-29</td><td>144487</td><td>1985</td><td>223704</td><td>1993</td><td> 1670.8</td><td>35240</td></tr>\n",
       "\t<tr><td> 30-34</td><td>110772</td><td>1985</td><td>172375</td><td>1993</td><td> 1602.5</td><td>31563</td></tr>\n",
       "\t<tr><td> 35-39</td><td> 92836</td><td>1985</td><td>161441</td><td>1993</td><td> 1390.0</td><td>26746</td></tr>\n",
       "\t<tr><td> 40-44</td><td> 68510</td><td>1985</td><td>108528</td><td>1993</td><td> 1472.2</td><td>20075</td></tr>\n",
       "\t<tr><td> 45-49</td><td> 54510</td><td>1985</td><td> 82684</td><td>1993</td><td> 1180.6</td><td>15053</td></tr>\n",
       "\t<tr><td> 50-54</td><td> 45914</td><td>1985</td><td> 64084</td><td>1993</td><td> 1348.4</td><td>11821</td></tr>\n",
       "\t<tr><td> 55-59</td><td> 30889</td><td>1985</td><td> 40767</td><td>1993</td><td>  786.9</td><td> 8653</td></tr>\n",
       "\t<tr><td> 60-64</td><td> 35130</td><td>1985</td><td> 48582</td><td>1993</td><td> 1646.3</td><td> 7748</td></tr>\n",
       "\t<tr><td> 65-69</td><td> 24487</td><td>1985</td><td> 31990</td><td>1993</td><td> 1090.1</td><td> 6705</td></tr>\n",
       "\t<tr><td> 70-74</td><td> 19022</td><td>1985</td><td> 29330</td><td>1993</td><td> 1346.5</td><td> 5360</td></tr>\n",
       "\t<tr><td> 75-79</td><td> 13764</td><td>1985</td><td> 17579</td><td>1993</td><td> 1013.2</td><td> 3657</td></tr>\n",
       "\t<tr><td>80+   </td><td> 29742</td><td>1985</td><td> 32681</td><td>1993</td><td> 3962.8</td><td> 4242</td></tr>\n",
       "</tbody>\n",
       "</table>\n"
      ],
      "text/latex": [
       "A data.frame: 17 × 7\n",
       "\\begin{tabular}{lllllll}\n",
       " idade & pop1 & ano1 & pop2 & ano2 & mortes & aniversario\\\\\n",
       " <chr> & <int> & <int> & <int> & <int> & <dbl> & <dbl>\\\\\n",
       "\\hline\n",
       "\t  0-4   & 263616 & 1985 & 378305 & 1993 & 13423.9 &     0\\\\\n",
       "\t  5-9   & 242587 & 1985 & 371652 & 1993 &  2591.8 & 62601\\\\\n",
       "\t  10-14 & 149369 & 1985 & 274823 & 1993 &  1092.6 & 51640\\\\\n",
       "\t  15-19 & 167870 & 1985 & 274725 & 1993 &  1573.6 & 40514\\\\\n",
       "\t  20-24 & 138787 & 1985 & 225284 & 1993 &  2550.9 & 38894\\\\\n",
       "\t  25-29 & 144487 & 1985 & 223704 & 1993 &  1670.8 & 35240\\\\\n",
       "\t  30-34 & 110772 & 1985 & 172375 & 1993 &  1602.5 & 31563\\\\\n",
       "\t  35-39 &  92836 & 1985 & 161441 & 1993 &  1390.0 & 26746\\\\\n",
       "\t  40-44 &  68510 & 1985 & 108528 & 1993 &  1472.2 & 20075\\\\\n",
       "\t  45-49 &  54510 & 1985 &  82684 & 1993 &  1180.6 & 15053\\\\\n",
       "\t  50-54 &  45914 & 1985 &  64084 & 1993 &  1348.4 & 11821\\\\\n",
       "\t  55-59 &  30889 & 1985 &  40767 & 1993 &   786.9 &  8653\\\\\n",
       "\t  60-64 &  35130 & 1985 &  48582 & 1993 &  1646.3 &  7748\\\\\n",
       "\t  65-69 &  24487 & 1985 &  31990 & 1993 &  1090.1 &  6705\\\\\n",
       "\t  70-74 &  19022 & 1985 &  29330 & 1993 &  1346.5 &  5360\\\\\n",
       "\t  75-79 &  13764 & 1985 &  17579 & 1993 &  1013.2 &  3657\\\\\n",
       "\t 80+    &  29742 & 1985 &  32681 & 1993 &  3962.8 &  4242\\\\\n",
       "\\end{tabular}\n"
      ],
      "text/markdown": [
       "\n",
       "A data.frame: 17 × 7\n",
       "\n",
       "| idade &lt;chr&gt; | pop1 &lt;int&gt; | ano1 &lt;int&gt; | pop2 &lt;int&gt; | ano2 &lt;int&gt; | mortes &lt;dbl&gt; | aniversario &lt;dbl&gt; |\n",
       "|---|---|---|---|---|---|---|\n",
       "|  0-4   | 263616 | 1985 | 378305 | 1993 | 13423.9 |     0 |\n",
       "|  5-9   | 242587 | 1985 | 371652 | 1993 |  2591.8 | 62601 |\n",
       "|  10-14 | 149369 | 1985 | 274823 | 1993 |  1092.6 | 51640 |\n",
       "|  15-19 | 167870 | 1985 | 274725 | 1993 |  1573.6 | 40514 |\n",
       "|  20-24 | 138787 | 1985 | 225284 | 1993 |  2550.9 | 38894 |\n",
       "|  25-29 | 144487 | 1985 | 223704 | 1993 |  1670.8 | 35240 |\n",
       "|  30-34 | 110772 | 1985 | 172375 | 1993 |  1602.5 | 31563 |\n",
       "|  35-39 |  92836 | 1985 | 161441 | 1993 |  1390.0 | 26746 |\n",
       "|  40-44 |  68510 | 1985 | 108528 | 1993 |  1472.2 | 20075 |\n",
       "|  45-49 |  54510 | 1985 |  82684 | 1993 |  1180.6 | 15053 |\n",
       "|  50-54 |  45914 | 1985 |  64084 | 1993 |  1348.4 | 11821 |\n",
       "|  55-59 |  30889 | 1985 |  40767 | 1993 |   786.9 |  8653 |\n",
       "|  60-64 |  35130 | 1985 |  48582 | 1993 |  1646.3 |  7748 |\n",
       "|  65-69 |  24487 | 1985 |  31990 | 1993 |  1090.1 |  6705 |\n",
       "|  70-74 |  19022 | 1985 |  29330 | 1993 |  1346.5 |  5360 |\n",
       "|  75-79 |  13764 | 1985 |  17579 | 1993 |  1013.2 |  3657 |\n",
       "| 80+    |  29742 | 1985 |  32681 | 1993 |  3962.8 |  4242 |\n",
       "\n"
      ],
      "text/plain": [
       "   idade  pop1   ano1 pop2   ano2 mortes  aniversario\n",
       "1   0-4   263616 1985 378305 1993 13423.9     0      \n",
       "2   5-9   242587 1985 371652 1993  2591.8 62601      \n",
       "3   10-14 149369 1985 274823 1993  1092.6 51640      \n",
       "4   15-19 167870 1985 274725 1993  1573.6 40514      \n",
       "5   20-24 138787 1985 225284 1993  2550.9 38894      \n",
       "6   25-29 144487 1985 223704 1993  1670.8 35240      \n",
       "7   30-34 110772 1985 172375 1993  1602.5 31563      \n",
       "8   35-39  92836 1985 161441 1993  1390.0 26746      \n",
       "9   40-44  68510 1985 108528 1993  1472.2 20075      \n",
       "10  45-49  54510 1985  82684 1993  1180.6 15053      \n",
       "11  50-54  45914 1985  64084 1993  1348.4 11821      \n",
       "12  55-59  30889 1985  40767 1993   786.9  8653      \n",
       "13  60-64  35130 1985  48582 1993  1646.3  7748      \n",
       "14  65-69  24487 1985  31990 1993  1090.1  6705      \n",
       "15  70-74  19022 1985  29330 1993  1346.5  5360      \n",
       "16  75-79  13764 1985  17579 1993  1013.2  3657      \n",
       "17 80+     29742 1985  32681 1993  3962.8  4242      "
      ]
     },
     "metadata": {
      "tags": []
     },
     "output_type": "display_data"
    }
   ],
   "source": [
    "# Gerando os aniversarios na idade exata, Nx (lembrando que partimos de grupos quinquenais)\n",
    "# Utilizando informação de população e grupos de idades adjacentes em dois censos.\n",
    "# Retira-se uma média geométrica\n",
    "\n",
    "# Inicializando variável aniversario\n",
    "tab$aniversario = 0\n",
    "\n",
    "# Retira-se uma média geométrica\n",
    "for (i in 2:ultimaLinha) {\n",
    "  popFaixaAnterior = as.numeric(tab$pop1[i-1]) \n",
    "  popFaixaAtual = as.numeric(tab$pop2[i])\n",
    "  tab$aniversario[i] = round(0.2 * sqrt(popFaixaAnterior * popFaixaAtual))\n",
    "}\n",
    "\n",
    "tab"
   ]
  },
  {
   "cell_type": "markdown",
   "metadata": {
    "id": "K4Uvl-1II9lA"
   },
   "source": [
    "### Inserindo funçoes na tabela"
   ]
  },
  {
   "cell_type": "code",
   "execution_count": null,
   "metadata": {
    "colab": {
     "base_uri": "https://localhost:8080/",
     "height": 435
    },
    "id": "xRCiZ3cxI6dz",
    "jupyter": {
     "source_hidden": true
    },
    "outputId": "507ac3c3-3c27-4575-e935-73c43794ec03"
   },
   "outputs": [
    {
     "data": {
      "text/html": [
       "<table>\n",
       "<caption>A data.frame: 17 × 10</caption>\n",
       "<thead>\n",
       "\t<tr><th scope=col>idade</th><th scope=col>pop1</th><th scope=col>ano1</th><th scope=col>pop2</th><th scope=col>ano2</th><th scope=col>mortes</th><th scope=col>aniversario</th><th scope=col>cresc</th><th scope=col>cum_cresc</th><th scope=col>morte_tab</th></tr>\n",
       "\t<tr><th scope=col>&lt;chr&gt;</th><th scope=col>&lt;int&gt;</th><th scope=col>&lt;int&gt;</th><th scope=col>&lt;int&gt;</th><th scope=col>&lt;int&gt;</th><th scope=col>&lt;dbl&gt;</th><th scope=col>&lt;dbl&gt;</th><th scope=col>&lt;dbl&gt;</th><th scope=col>&lt;dbl&gt;</th><th scope=col>&lt;dbl&gt;</th></tr>\n",
       "</thead>\n",
       "<tbody>\n",
       "\t<tr><td> 0-4  </td><td>263616</td><td>1985</td><td>378305</td><td>1993</td><td>13423.9</td><td>    0</td><td>0.04515</td><td>0.11288</td><td> 15028</td></tr>\n",
       "\t<tr><td> 5-9  </td><td>242587</td><td>1985</td><td>371652</td><td>1993</td><td> 2591.8</td><td>62601</td><td>0.05332</td><td>0.35905</td><td>  3711</td></tr>\n",
       "\t<tr><td> 10-14</td><td>149369</td><td>1985</td><td>274823</td><td>1993</td><td> 1092.6</td><td>51640</td><td>0.07621</td><td>0.68288</td><td>  2163</td></tr>\n",
       "\t<tr><td> 15-19</td><td>167870</td><td>1985</td><td>274725</td><td>1993</td><td> 1573.6</td><td>40514</td><td>0.06157</td><td>1.02732</td><td>  4396</td></tr>\n",
       "\t<tr><td> 20-24</td><td>138787</td><td>1985</td><td>225284</td><td>1993</td><td> 2550.9</td><td>38894</td><td>0.06055</td><td>1.33263</td><td>  9670</td></tr>\n",
       "\t<tr><td> 25-29</td><td>144487</td><td>1985</td><td>223704</td><td>1993</td><td> 1670.8</td><td>35240</td><td>0.05464</td><td>1.62060</td><td>  8448</td></tr>\n",
       "\t<tr><td> 30-34</td><td>110772</td><td>1985</td><td>172375</td><td>1993</td><td> 1602.5</td><td>31563</td><td>0.05527</td><td>1.89537</td><td> 10665</td></tr>\n",
       "\t<tr><td> 35-39</td><td> 92836</td><td>1985</td><td>161441</td><td>1993</td><td> 1390.0</td><td>26746</td><td>0.06916</td><td>2.20645</td><td> 12626</td></tr>\n",
       "\t<tr><td> 40-44</td><td> 68510</td><td>1985</td><td>108528</td><td>1993</td><td> 1472.2</td><td>20075</td><td>0.05750</td><td>2.52310</td><td> 18354</td></tr>\n",
       "\t<tr><td> 45-49</td><td> 54510</td><td>1985</td><td> 82684</td><td>1993</td><td> 1180.6</td><td>15053</td><td>0.05208</td><td>2.79705</td><td> 19357</td></tr>\n",
       "\t<tr><td> 50-54</td><td> 45914</td><td>1985</td><td> 64084</td><td>1993</td><td> 1348.4</td><td>11821</td><td>0.04168</td><td>3.03145</td><td> 27949</td></tr>\n",
       "\t<tr><td> 55-59</td><td> 30889</td><td>1985</td><td> 40767</td><td>1993</td><td>  786.9</td><td> 8653</td><td>0.03468</td><td>3.22235</td><td> 19741</td></tr>\n",
       "\t<tr><td> 60-64</td><td> 35130</td><td>1985</td><td> 48582</td><td>1993</td><td> 1646.3</td><td> 7748</td><td>0.04052</td><td>3.41035</td><td> 49843</td></tr>\n",
       "\t<tr><td> 65-69</td><td> 24487</td><td>1985</td><td> 31990</td><td>1993</td><td> 1090.1</td><td> 6705</td><td>0.03341</td><td>3.59517</td><td> 39704</td></tr>\n",
       "\t<tr><td> 70-74</td><td> 19022</td><td>1985</td><td> 29330</td><td>1993</td><td> 1346.5</td><td> 5360</td><td>0.05413</td><td>3.81402</td><td> 61040</td></tr>\n",
       "\t<tr><td> 75-79</td><td> 13764</td><td>1985</td><td> 17579</td><td>1993</td><td> 1013.2</td><td> 3657</td><td>0.03058</td><td>4.02580</td><td> 56765</td></tr>\n",
       "\t<tr><td>80+   </td><td> 29742</td><td>1985</td><td> 32681</td><td>1993</td><td> 3962.8</td><td> 4242</td><td>0.01178</td><td>4.13170</td><td>246818</td></tr>\n",
       "</tbody>\n",
       "</table>\n"
      ],
      "text/latex": [
       "A data.frame: 17 × 10\n",
       "\\begin{tabular}{llllllllll}\n",
       " idade & pop1 & ano1 & pop2 & ano2 & mortes & aniversario & cresc & cum\\_cresc & morte\\_tab\\\\\n",
       " <chr> & <int> & <int> & <int> & <int> & <dbl> & <dbl> & <dbl> & <dbl> & <dbl>\\\\\n",
       "\\hline\n",
       "\t  0-4   & 263616 & 1985 & 378305 & 1993 & 13423.9 &     0 & 0.04515 & 0.11288 &  15028\\\\\n",
       "\t  5-9   & 242587 & 1985 & 371652 & 1993 &  2591.8 & 62601 & 0.05332 & 0.35905 &   3711\\\\\n",
       "\t  10-14 & 149369 & 1985 & 274823 & 1993 &  1092.6 & 51640 & 0.07621 & 0.68288 &   2163\\\\\n",
       "\t  15-19 & 167870 & 1985 & 274725 & 1993 &  1573.6 & 40514 & 0.06157 & 1.02732 &   4396\\\\\n",
       "\t  20-24 & 138787 & 1985 & 225284 & 1993 &  2550.9 & 38894 & 0.06055 & 1.33263 &   9670\\\\\n",
       "\t  25-29 & 144487 & 1985 & 223704 & 1993 &  1670.8 & 35240 & 0.05464 & 1.62060 &   8448\\\\\n",
       "\t  30-34 & 110772 & 1985 & 172375 & 1993 &  1602.5 & 31563 & 0.05527 & 1.89537 &  10665\\\\\n",
       "\t  35-39 &  92836 & 1985 & 161441 & 1993 &  1390.0 & 26746 & 0.06916 & 2.20645 &  12626\\\\\n",
       "\t  40-44 &  68510 & 1985 & 108528 & 1993 &  1472.2 & 20075 & 0.05750 & 2.52310 &  18354\\\\\n",
       "\t  45-49 &  54510 & 1985 &  82684 & 1993 &  1180.6 & 15053 & 0.05208 & 2.79705 &  19357\\\\\n",
       "\t  50-54 &  45914 & 1985 &  64084 & 1993 &  1348.4 & 11821 & 0.04168 & 3.03145 &  27949\\\\\n",
       "\t  55-59 &  30889 & 1985 &  40767 & 1993 &   786.9 &  8653 & 0.03468 & 3.22235 &  19741\\\\\n",
       "\t  60-64 &  35130 & 1985 &  48582 & 1993 &  1646.3 &  7748 & 0.04052 & 3.41035 &  49843\\\\\n",
       "\t  65-69 &  24487 & 1985 &  31990 & 1993 &  1090.1 &  6705 & 0.03341 & 3.59517 &  39704\\\\\n",
       "\t  70-74 &  19022 & 1985 &  29330 & 1993 &  1346.5 &  5360 & 0.05413 & 3.81402 &  61040\\\\\n",
       "\t  75-79 &  13764 & 1985 &  17579 & 1993 &  1013.2 &  3657 & 0.03058 & 4.02580 &  56765\\\\\n",
       "\t 80+    &  29742 & 1985 &  32681 & 1993 &  3962.8 &  4242 & 0.01178 & 4.13170 & 246818\\\\\n",
       "\\end{tabular}\n"
      ],
      "text/markdown": [
       "\n",
       "A data.frame: 17 × 10\n",
       "\n",
       "| idade &lt;chr&gt; | pop1 &lt;int&gt; | ano1 &lt;int&gt; | pop2 &lt;int&gt; | ano2 &lt;int&gt; | mortes &lt;dbl&gt; | aniversario &lt;dbl&gt; | cresc &lt;dbl&gt; | cum_cresc &lt;dbl&gt; | morte_tab &lt;dbl&gt; |\n",
       "|---|---|---|---|---|---|---|---|---|---|\n",
       "|  0-4   | 263616 | 1985 | 378305 | 1993 | 13423.9 |     0 | 0.04515 | 0.11288 |  15028 |\n",
       "|  5-9   | 242587 | 1985 | 371652 | 1993 |  2591.8 | 62601 | 0.05332 | 0.35905 |   3711 |\n",
       "|  10-14 | 149369 | 1985 | 274823 | 1993 |  1092.6 | 51640 | 0.07621 | 0.68288 |   2163 |\n",
       "|  15-19 | 167870 | 1985 | 274725 | 1993 |  1573.6 | 40514 | 0.06157 | 1.02732 |   4396 |\n",
       "|  20-24 | 138787 | 1985 | 225284 | 1993 |  2550.9 | 38894 | 0.06055 | 1.33263 |   9670 |\n",
       "|  25-29 | 144487 | 1985 | 223704 | 1993 |  1670.8 | 35240 | 0.05464 | 1.62060 |   8448 |\n",
       "|  30-34 | 110772 | 1985 | 172375 | 1993 |  1602.5 | 31563 | 0.05527 | 1.89537 |  10665 |\n",
       "|  35-39 |  92836 | 1985 | 161441 | 1993 |  1390.0 | 26746 | 0.06916 | 2.20645 |  12626 |\n",
       "|  40-44 |  68510 | 1985 | 108528 | 1993 |  1472.2 | 20075 | 0.05750 | 2.52310 |  18354 |\n",
       "|  45-49 |  54510 | 1985 |  82684 | 1993 |  1180.6 | 15053 | 0.05208 | 2.79705 |  19357 |\n",
       "|  50-54 |  45914 | 1985 |  64084 | 1993 |  1348.4 | 11821 | 0.04168 | 3.03145 |  27949 |\n",
       "|  55-59 |  30889 | 1985 |  40767 | 1993 |   786.9 |  8653 | 0.03468 | 3.22235 |  19741 |\n",
       "|  60-64 |  35130 | 1985 |  48582 | 1993 |  1646.3 |  7748 | 0.04052 | 3.41035 |  49843 |\n",
       "|  65-69 |  24487 | 1985 |  31990 | 1993 |  1090.1 |  6705 | 0.03341 | 3.59517 |  39704 |\n",
       "|  70-74 |  19022 | 1985 |  29330 | 1993 |  1346.5 |  5360 | 0.05413 | 3.81402 |  61040 |\n",
       "|  75-79 |  13764 | 1985 |  17579 | 1993 |  1013.2 |  3657 | 0.03058 | 4.02580 |  56765 |\n",
       "| 80+    |  29742 | 1985 |  32681 | 1993 |  3962.8 |  4242 | 0.01178 | 4.13170 | 246818 |\n",
       "\n"
      ],
      "text/plain": [
       "   idade  pop1   ano1 pop2   ano2 mortes  aniversario cresc   cum_cresc\n",
       "1   0-4   263616 1985 378305 1993 13423.9     0       0.04515 0.11288  \n",
       "2   5-9   242587 1985 371652 1993  2591.8 62601       0.05332 0.35905  \n",
       "3   10-14 149369 1985 274823 1993  1092.6 51640       0.07621 0.68288  \n",
       "4   15-19 167870 1985 274725 1993  1573.6 40514       0.06157 1.02732  \n",
       "5   20-24 138787 1985 225284 1993  2550.9 38894       0.06055 1.33263  \n",
       "6   25-29 144487 1985 223704 1993  1670.8 35240       0.05464 1.62060  \n",
       "7   30-34 110772 1985 172375 1993  1602.5 31563       0.05527 1.89537  \n",
       "8   35-39  92836 1985 161441 1993  1390.0 26746       0.06916 2.20645  \n",
       "9   40-44  68510 1985 108528 1993  1472.2 20075       0.05750 2.52310  \n",
       "10  45-49  54510 1985  82684 1993  1180.6 15053       0.05208 2.79705  \n",
       "11  50-54  45914 1985  64084 1993  1348.4 11821       0.04168 3.03145  \n",
       "12  55-59  30889 1985  40767 1993   786.9  8653       0.03468 3.22235  \n",
       "13  60-64  35130 1985  48582 1993  1646.3  7748       0.04052 3.41035  \n",
       "14  65-69  24487 1985  31990 1993  1090.1  6705       0.03341 3.59517  \n",
       "15  70-74  19022 1985  29330 1993  1346.5  5360       0.05413 3.81402  \n",
       "16  75-79  13764 1985  17579 1993  1013.2  3657       0.03058 4.02580  \n",
       "17 80+     29742 1985  32681 1993  3962.8  4242       0.01178 4.13170  \n",
       "   morte_tab\n",
       "1   15028   \n",
       "2    3711   \n",
       "3    2163   \n",
       "4    4396   \n",
       "5    9670   \n",
       "6    8448   \n",
       "7   10665   \n",
       "8   12626   \n",
       "9   18354   \n",
       "10  19357   \n",
       "11  27949   \n",
       "12  19741   \n",
       "13  49843   \n",
       "14  39704   \n",
       "15  61040   \n",
       "16  56765   \n",
       "17 246818   "
      ]
     },
     "metadata": {
      "tags": []
     },
     "output_type": "display_data"
    }
   ],
   "source": [
    "# Taxa de crescimento\n",
    "for (i in 1:ultimaLinha) {\n",
    "  tab$cresc[i] = round(log(tab$pop2[i]/tab$pop1[i])/periodoTempo, digits=5)\n",
    "}\n",
    "\n",
    "# Taxa de crescimento acumulado, r(a-x). Fórmula para a primeira idade difernte das demais \n",
    "for (i in 1:ultimaLinha) {\n",
    "  tab$cum_cresc[i] = round(0, digits=5)\n",
    "}\n",
    "\n",
    "# Para a primeira idade\n",
    "tab$cum_cresc[1] = round(2.5 * tab$cresc[1], digits=5)\n",
    "\n",
    "# Para as demais - Na idade x 2.5 e demais multiplica por 5. Por que 5?\n",
    "for (i in 2:ultimaLinha) {\n",
    "  tab$cum_cresc[i] = round(2.5 * tab$cresc[i] + 5 * sum(tab$cresc[(i-1):1]), digits=5)\n",
    "}\n",
    "\n",
    "# Mortes na tabela de vida - util para estimar esperan�a de vida intervalo aberto\n",
    "for (i in 1:ultimaLinha) {\n",
    "  tab$morte_tab[i] = round(tab$mortes[i] * exp(tab$cum_cresc[i]), digits=0)\n",
    "}\n",
    "\n",
    "tab"
   ]
  },
  {
   "cell_type": "code",
   "execution_count": null,
   "metadata": {
    "colab": {
     "base_uri": "https://localhost:8080/",
     "height": 435
    },
    "id": "8ABoABQY0j4C",
    "jupyter": {
     "source_hidden": true
    },
    "outputId": "b20779fd-16bb-44e4-aa9a-2d2822dcf657"
   },
   "outputs": [
    {
     "data": {
      "text/html": [
       "<table>\n",
       "<caption>A data.frame: 17 × 14</caption>\n",
       "<thead>\n",
       "\t<tr><th scope=col>idade</th><th scope=col>pop1</th><th scope=col>ano1</th><th scope=col>pop2</th><th scope=col>ano2</th><th scope=col>mortes</th><th scope=col>aniversario</th><th scope=col>cresc</th><th scope=col>cum_cresc</th><th scope=col>morte_tab</th><th scope=col>razao</th><th scope=col>aberto</th><th scope=col>pop_a</th><th scope=col>Cx</th></tr>\n",
       "\t<tr><th scope=col>&lt;chr&gt;</th><th scope=col>&lt;int&gt;</th><th scope=col>&lt;int&gt;</th><th scope=col>&lt;int&gt;</th><th scope=col>&lt;int&gt;</th><th scope=col>&lt;dbl&gt;</th><th scope=col>&lt;dbl&gt;</th><th scope=col>&lt;dbl&gt;</th><th scope=col>&lt;dbl&gt;</th><th scope=col>&lt;dbl&gt;</th><th scope=col>&lt;dbl&gt;</th><th scope=col>&lt;dbl&gt;</th><th scope=col>&lt;dbl&gt;</th><th scope=col>&lt;dbl&gt;</th></tr>\n",
       "</thead>\n",
       "<tbody>\n",
       "\t<tr><td> 0-4  </td><td>263616</td><td>1985</td><td>378305</td><td>1993</td><td>13423.9</td><td>    0</td><td>0.04515</td><td>0.11288</td><td> 15028</td><td>0.562</td><td>5.71</td><td>615650</td><td> Inf</td></tr>\n",
       "\t<tr><td> 5-9  </td><td>242587</td><td>1985</td><td>371652</td><td>1993</td><td> 2591.8</td><td>62601</td><td>0.05332</td><td>0.35905</td><td>  3711</td><td>0.562</td><td>5.71</td><td>479247</td><td>7.66</td></tr>\n",
       "\t<tr><td> 10-14</td><td>149369</td><td>1985</td><td>274823</td><td>1993</td><td> 1092.6</td><td>51640</td><td>0.07621</td><td>0.68288</td><td>  2163</td><td>0.562</td><td>5.71</td><td>364825</td><td>7.06</td></tr>\n",
       "\t<tr><td> 15-19</td><td>167870</td><td>1985</td><td>274725</td><td>1993</td><td> 1573.6</td><td>40514</td><td>0.06157</td><td>1.02732</td><td>  4396</td><td>0.562</td><td>5.71</td><td>248325</td><td>6.13</td></tr>\n",
       "\t<tr><td> 20-24</td><td>138787</td><td>1985</td><td>225284</td><td>1993</td><td> 2550.9</td><td>38894</td><td>0.06055</td><td>1.33263</td><td>  9670</td><td>0.562</td><td>5.71</td><td>181176</td><td>4.66</td></tr>\n",
       "\t<tr><td> 25-29</td><td>144487</td><td>1985</td><td>223704</td><td>1993</td><td> 1670.8</td><td>35240</td><td>0.05464</td><td>1.62060</td><td>  8448</td><td>0.562</td><td>5.71</td><td>131657</td><td>3.74</td></tr>\n",
       "\t<tr><td> 30-34</td><td>110772</td><td>1985</td><td>172375</td><td>1993</td><td> 1602.5</td><td>31563</td><td>0.05527</td><td>1.89537</td><td> 10665</td><td>0.562</td><td>5.71</td><td> 98726</td><td>3.13</td></tr>\n",
       "\t<tr><td> 35-39</td><td> 92836</td><td>1985</td><td>161441</td><td>1993</td><td> 1390.0</td><td>26746</td><td>0.06916</td><td>2.20645</td><td> 12626</td><td>0.562</td><td>5.71</td><td> 73493</td><td>2.75</td></tr>\n",
       "\t<tr><td> 40-44</td><td> 68510</td><td>1985</td><td>108528</td><td>1993</td><td> 1472.2</td><td>20075</td><td>0.05750</td><td>2.52310</td><td> 18354</td><td>0.562</td><td>5.71</td><td> 50838</td><td>2.53</td></tr>\n",
       "\t<tr><td> 45-49</td><td> 54510</td><td>1985</td><td> 82684</td><td>1993</td><td> 1180.6</td><td>15053</td><td>0.05208</td><td>2.79705</td><td> 19357</td><td>0.562</td><td>5.71</td><td> 36860</td><td>2.45</td></tr>\n",
       "\t<tr><td> 50-54</td><td> 45914</td><td>1985</td><td> 64084</td><td>1993</td><td> 1348.4</td><td>11821</td><td>0.04168</td><td>3.03145</td><td> 27949</td><td>0.562</td><td>5.71</td><td> 27373</td><td>2.32</td></tr>\n",
       "\t<tr><td> 55-59</td><td> 30889</td><td>1985</td><td> 40767</td><td>1993</td><td>  786.9</td><td> 8653</td><td>0.03468</td><td>3.22235</td><td> 19741</td><td>0.562</td><td>5.71</td><td> 21009</td><td>2.43</td></tr>\n",
       "\t<tr><td> 60-64</td><td> 35130</td><td>1985</td><td> 48582</td><td>1993</td><td> 1646.3</td><td> 7748</td><td>0.04052</td><td>3.41035</td><td> 49843</td><td>0.562</td><td>5.71</td><td> 16943</td><td>2.19</td></tr>\n",
       "\t<tr><td> 65-69</td><td> 24487</td><td>1985</td><td> 31990</td><td>1993</td><td> 1090.1</td><td> 6705</td><td>0.03341</td><td>3.59517</td><td> 39704</td><td>0.562</td><td>5.71</td><td> 12348</td><td>1.84</td></tr>\n",
       "\t<tr><td> 70-74</td><td> 19022</td><td>1985</td><td> 29330</td><td>1993</td><td> 1346.5</td><td> 5360</td><td>0.05413</td><td>3.81402</td><td> 61040</td><td>0.562</td><td>5.71</td><td>  9446</td><td>1.76</td></tr>\n",
       "\t<tr><td> 75-79</td><td> 13764</td><td>1985</td><td> 17579</td><td>1993</td><td> 1013.2</td><td> 3657</td><td>0.03058</td><td>4.02580</td><td> 56765</td><td>0.562</td><td>5.71</td><td>  6030</td><td>1.65</td></tr>\n",
       "\t<tr><td>80+   </td><td> 29742</td><td>1985</td><td> 32681</td><td>1993</td><td> 3962.8</td><td> 4242</td><td>0.01178</td><td>4.13170</td><td>246818</td><td>0.562</td><td>5.71</td><td>  4236</td><td>1.00</td></tr>\n",
       "</tbody>\n",
       "</table>\n"
      ],
      "text/latex": [
       "A data.frame: 17 × 14\n",
       "\\begin{tabular}{llllllllllllll}\n",
       " idade & pop1 & ano1 & pop2 & ano2 & mortes & aniversario & cresc & cum\\_cresc & morte\\_tab & razao & aberto & pop\\_a & Cx\\\\\n",
       " <chr> & <int> & <int> & <int> & <int> & <dbl> & <dbl> & <dbl> & <dbl> & <dbl> & <dbl> & <dbl> & <dbl> & <dbl>\\\\\n",
       "\\hline\n",
       "\t  0-4   & 263616 & 1985 & 378305 & 1993 & 13423.9 &     0 & 0.04515 & 0.11288 &  15028 & 0.562 & 5.71 & 615650 &  Inf\\\\\n",
       "\t  5-9   & 242587 & 1985 & 371652 & 1993 &  2591.8 & 62601 & 0.05332 & 0.35905 &   3711 & 0.562 & 5.71 & 479247 & 7.66\\\\\n",
       "\t  10-14 & 149369 & 1985 & 274823 & 1993 &  1092.6 & 51640 & 0.07621 & 0.68288 &   2163 & 0.562 & 5.71 & 364825 & 7.06\\\\\n",
       "\t  15-19 & 167870 & 1985 & 274725 & 1993 &  1573.6 & 40514 & 0.06157 & 1.02732 &   4396 & 0.562 & 5.71 & 248325 & 6.13\\\\\n",
       "\t  20-24 & 138787 & 1985 & 225284 & 1993 &  2550.9 & 38894 & 0.06055 & 1.33263 &   9670 & 0.562 & 5.71 & 181176 & 4.66\\\\\n",
       "\t  25-29 & 144487 & 1985 & 223704 & 1993 &  1670.8 & 35240 & 0.05464 & 1.62060 &   8448 & 0.562 & 5.71 & 131657 & 3.74\\\\\n",
       "\t  30-34 & 110772 & 1985 & 172375 & 1993 &  1602.5 & 31563 & 0.05527 & 1.89537 &  10665 & 0.562 & 5.71 &  98726 & 3.13\\\\\n",
       "\t  35-39 &  92836 & 1985 & 161441 & 1993 &  1390.0 & 26746 & 0.06916 & 2.20645 &  12626 & 0.562 & 5.71 &  73493 & 2.75\\\\\n",
       "\t  40-44 &  68510 & 1985 & 108528 & 1993 &  1472.2 & 20075 & 0.05750 & 2.52310 &  18354 & 0.562 & 5.71 &  50838 & 2.53\\\\\n",
       "\t  45-49 &  54510 & 1985 &  82684 & 1993 &  1180.6 & 15053 & 0.05208 & 2.79705 &  19357 & 0.562 & 5.71 &  36860 & 2.45\\\\\n",
       "\t  50-54 &  45914 & 1985 &  64084 & 1993 &  1348.4 & 11821 & 0.04168 & 3.03145 &  27949 & 0.562 & 5.71 &  27373 & 2.32\\\\\n",
       "\t  55-59 &  30889 & 1985 &  40767 & 1993 &   786.9 &  8653 & 0.03468 & 3.22235 &  19741 & 0.562 & 5.71 &  21009 & 2.43\\\\\n",
       "\t  60-64 &  35130 & 1985 &  48582 & 1993 &  1646.3 &  7748 & 0.04052 & 3.41035 &  49843 & 0.562 & 5.71 &  16943 & 2.19\\\\\n",
       "\t  65-69 &  24487 & 1985 &  31990 & 1993 &  1090.1 &  6705 & 0.03341 & 3.59517 &  39704 & 0.562 & 5.71 &  12348 & 1.84\\\\\n",
       "\t  70-74 &  19022 & 1985 &  29330 & 1993 &  1346.5 &  5360 & 0.05413 & 3.81402 &  61040 & 0.562 & 5.71 &   9446 & 1.76\\\\\n",
       "\t  75-79 &  13764 & 1985 &  17579 & 1993 &  1013.2 &  3657 & 0.03058 & 4.02580 &  56765 & 0.562 & 5.71 &   6030 & 1.65\\\\\n",
       "\t 80+    &  29742 & 1985 &  32681 & 1993 &  3962.8 &  4242 & 0.01178 & 4.13170 & 246818 & 0.562 & 5.71 &   4236 & 1.00\\\\\n",
       "\\end{tabular}\n"
      ],
      "text/markdown": [
       "\n",
       "A data.frame: 17 × 14\n",
       "\n",
       "| idade &lt;chr&gt; | pop1 &lt;int&gt; | ano1 &lt;int&gt; | pop2 &lt;int&gt; | ano2 &lt;int&gt; | mortes &lt;dbl&gt; | aniversario &lt;dbl&gt; | cresc &lt;dbl&gt; | cum_cresc &lt;dbl&gt; | morte_tab &lt;dbl&gt; | razao &lt;dbl&gt; | aberto &lt;dbl&gt; | pop_a &lt;dbl&gt; | Cx &lt;dbl&gt; |\n",
       "|---|---|---|---|---|---|---|---|---|---|---|---|---|---|\n",
       "|  0-4   | 263616 | 1985 | 378305 | 1993 | 13423.9 |     0 | 0.04515 | 0.11288 |  15028 | 0.562 | 5.71 | 615650 |  Inf |\n",
       "|  5-9   | 242587 | 1985 | 371652 | 1993 |  2591.8 | 62601 | 0.05332 | 0.35905 |   3711 | 0.562 | 5.71 | 479247 | 7.66 |\n",
       "|  10-14 | 149369 | 1985 | 274823 | 1993 |  1092.6 | 51640 | 0.07621 | 0.68288 |   2163 | 0.562 | 5.71 | 364825 | 7.06 |\n",
       "|  15-19 | 167870 | 1985 | 274725 | 1993 |  1573.6 | 40514 | 0.06157 | 1.02732 |   4396 | 0.562 | 5.71 | 248325 | 6.13 |\n",
       "|  20-24 | 138787 | 1985 | 225284 | 1993 |  2550.9 | 38894 | 0.06055 | 1.33263 |   9670 | 0.562 | 5.71 | 181176 | 4.66 |\n",
       "|  25-29 | 144487 | 1985 | 223704 | 1993 |  1670.8 | 35240 | 0.05464 | 1.62060 |   8448 | 0.562 | 5.71 | 131657 | 3.74 |\n",
       "|  30-34 | 110772 | 1985 | 172375 | 1993 |  1602.5 | 31563 | 0.05527 | 1.89537 |  10665 | 0.562 | 5.71 |  98726 | 3.13 |\n",
       "|  35-39 |  92836 | 1985 | 161441 | 1993 |  1390.0 | 26746 | 0.06916 | 2.20645 |  12626 | 0.562 | 5.71 |  73493 | 2.75 |\n",
       "|  40-44 |  68510 | 1985 | 108528 | 1993 |  1472.2 | 20075 | 0.05750 | 2.52310 |  18354 | 0.562 | 5.71 |  50838 | 2.53 |\n",
       "|  45-49 |  54510 | 1985 |  82684 | 1993 |  1180.6 | 15053 | 0.05208 | 2.79705 |  19357 | 0.562 | 5.71 |  36860 | 2.45 |\n",
       "|  50-54 |  45914 | 1985 |  64084 | 1993 |  1348.4 | 11821 | 0.04168 | 3.03145 |  27949 | 0.562 | 5.71 |  27373 | 2.32 |\n",
       "|  55-59 |  30889 | 1985 |  40767 | 1993 |   786.9 |  8653 | 0.03468 | 3.22235 |  19741 | 0.562 | 5.71 |  21009 | 2.43 |\n",
       "|  60-64 |  35130 | 1985 |  48582 | 1993 |  1646.3 |  7748 | 0.04052 | 3.41035 |  49843 | 0.562 | 5.71 |  16943 | 2.19 |\n",
       "|  65-69 |  24487 | 1985 |  31990 | 1993 |  1090.1 |  6705 | 0.03341 | 3.59517 |  39704 | 0.562 | 5.71 |  12348 | 1.84 |\n",
       "|  70-74 |  19022 | 1985 |  29330 | 1993 |  1346.5 |  5360 | 0.05413 | 3.81402 |  61040 | 0.562 | 5.71 |   9446 | 1.76 |\n",
       "|  75-79 |  13764 | 1985 |  17579 | 1993 |  1013.2 |  3657 | 0.03058 | 4.02580 |  56765 | 0.562 | 5.71 |   6030 | 1.65 |\n",
       "| 80+    |  29742 | 1985 |  32681 | 1993 |  3962.8 |  4242 | 0.01178 | 4.13170 | 246818 | 0.562 | 5.71 |   4236 | 1.00 |\n",
       "\n"
      ],
      "text/plain": [
       "   idade  pop1   ano1 pop2   ano2 mortes  aniversario cresc   cum_cresc\n",
       "1   0-4   263616 1985 378305 1993 13423.9     0       0.04515 0.11288  \n",
       "2   5-9   242587 1985 371652 1993  2591.8 62601       0.05332 0.35905  \n",
       "3   10-14 149369 1985 274823 1993  1092.6 51640       0.07621 0.68288  \n",
       "4   15-19 167870 1985 274725 1993  1573.6 40514       0.06157 1.02732  \n",
       "5   20-24 138787 1985 225284 1993  2550.9 38894       0.06055 1.33263  \n",
       "6   25-29 144487 1985 223704 1993  1670.8 35240       0.05464 1.62060  \n",
       "7   30-34 110772 1985 172375 1993  1602.5 31563       0.05527 1.89537  \n",
       "8   35-39  92836 1985 161441 1993  1390.0 26746       0.06916 2.20645  \n",
       "9   40-44  68510 1985 108528 1993  1472.2 20075       0.05750 2.52310  \n",
       "10  45-49  54510 1985  82684 1993  1180.6 15053       0.05208 2.79705  \n",
       "11  50-54  45914 1985  64084 1993  1348.4 11821       0.04168 3.03145  \n",
       "12  55-59  30889 1985  40767 1993   786.9  8653       0.03468 3.22235  \n",
       "13  60-64  35130 1985  48582 1993  1646.3  7748       0.04052 3.41035  \n",
       "14  65-69  24487 1985  31990 1993  1090.1  6705       0.03341 3.59517  \n",
       "15  70-74  19022 1985  29330 1993  1346.5  5360       0.05413 3.81402  \n",
       "16  75-79  13764 1985  17579 1993  1013.2  3657       0.03058 4.02580  \n",
       "17 80+     29742 1985  32681 1993  3962.8  4242       0.01178 4.13170  \n",
       "   morte_tab razao aberto pop_a  Cx  \n",
       "1   15028    0.562 5.71   615650  Inf\n",
       "2    3711    0.562 5.71   479247 7.66\n",
       "3    2163    0.562 5.71   364825 7.06\n",
       "4    4396    0.562 5.71   248325 6.13\n",
       "5    9670    0.562 5.71   181176 4.66\n",
       "6    8448    0.562 5.71   131657 3.74\n",
       "7   10665    0.562 5.71    98726 3.13\n",
       "8   12626    0.562 5.71    73493 2.75\n",
       "9   18354    0.562 5.71    50838 2.53\n",
       "10  19357    0.562 5.71    36860 2.45\n",
       "11  27949    0.562 5.71    27373 2.32\n",
       "12  19741    0.562 5.71    21009 2.43\n",
       "13  49843    0.562 5.71    16943 2.19\n",
       "14  39704    0.562 5.71    12348 1.84\n",
       "15  61040    0.562 5.71     9446 1.76\n",
       "16  56765    0.562 5.71     6030 1.65\n",
       "17 246818    0.562 5.71     4236 1.00"
      ]
     },
     "metadata": {
      "tags": []
     },
     "output_type": "display_data"
    }
   ],
   "source": [
    "# Razao entre mortes de 10-40/40-60, ou 30d10/20d40. \n",
    "# Usado para estimar intervalo aberto, ou N'x em intervalo aberto\n",
    "tab$razao = round(sum(tab$morte_tab[3:8])/sum(tab$morte_tab[9:12]), digits=3)\n",
    "\n",
    "# Com base nos valores dessa raz�o, procura-se em tabua modelo a esperan�a de vida equivalente em intervalo aberto. \n",
    "# Valores sexo feminino tabua modelo Oeste. \n",
    "# Interpolacao para gerar mortes em intervalo aberto. Ver tabela em artigo Bennett and Horiuchi do artigo.\n",
    "tab$aberto = round(4.88+((0.872-tab$razao[1])/(0.872-0.827)) * (5-4.88), digits=2) \n",
    "\n",
    "# Para homens\n",
    "# aberto <- round(4.5+((0.725-razao[1])/(0.725-0.689)) * (4.61-4.5), digits=2).\n",
    "\n",
    "# População N'x para ultimo grupo da tabua\n",
    "tab$pop_a = 0\n",
    "\n",
    "# D*(exp(e(x)+*r+)-(e(x)+*r+)^2/6)\n",
    "tab$pop_a[ultimaLinha] = round(tab$mortes[ultimaLinha] * (exp(tab$aberto[ultimaLinha] * tab$cresc[ultimaLinha]) - \n",
    "  ((tab$aberto[ultimaLinha]*tab$cresc[ultimaLinha])^2/6)), digits=0)\n",
    "\n",
    "# População para os demais, 75-79, 70-74...0-4\n",
    "# Nx+5*exp(5*r)+Dx*exp(2,5*r)\n",
    "for (i in ultimaLinha:1) {\n",
    "  tab$pop_a[i-1] = round(tab$pop_a[i] * exp(5*tab$cresc[i-1]) +\n",
    "    tab$mortes[i-1] * exp(2.5 * tab$cresc[i-1]), digits=0)}\n",
    "\n",
    "# Grau de cobertura para cada idade\n",
    "# N'x (pop_a)/Nx (aniversários na idade)\n",
    "tab$Cx = round(tab$pop_a/tab$aniversario, digits=2)\n",
    "\n",
    "tab"
   ]
  },
  {
   "cell_type": "code",
   "execution_count": null,
   "metadata": {
    "colab": {
     "base_uri": "https://localhost:8080/",
     "height": 437
    },
    "id": "Tpoj9Tn6KfHC",
    "jupyter": {
     "source_hidden": true
    },
    "outputId": "ed429480-99fe-43f6-c404-61b5d5312c24"
   },
   "outputs": [
    {
     "data": {
      "image/png": "[encoded data removed]",
      "text/plain": [
       "Plot with title “Grau de cobertura pelo método Geração Extintas”"
      ]
     },
     "metadata": {
      "image/png": {
       "height": 420,
       "width": 420
      },
      "tags": []
     },
     "output_type": "display_data"
    }
   ],
   "source": [
    "# Seleção de idades através de gráfico\n",
    "#windows(height=10,width=10)\n",
    "plot(seq(5,80,5),tab$Cx[2:17], type='b', lwd=2, \n",
    "     main='Grau de cobertura pelo método Geração Extintas',\n",
    "     xlab='idades', ylab='Grau de cobertura')\n",
    "\n",
    "abline(h=1,lty=2, col='red')\n",
    "\n",
    "grid(10,10)\n"
   ]
  },
  {
   "cell_type": "code",
   "execution_count": null,
   "metadata": {
    "colab": {
     "base_uri": "https://localhost:8080/",
     "height": 34
    },
    "id": "l_obCAeYKh3p",
    "jupyter": {
     "source_hidden": true
    },
    "outputId": "9503303c-a6fe-4a3d-d770-16420d638885"
   },
   "outputs": [
    {
     "data": {
      "text/html": [
       "2.6"
      ],
      "text/latex": [
       "2.6"
      ],
      "text/markdown": [
       "2.6"
      ],
      "text/plain": [
       "[1] 2.6"
      ]
     },
     "metadata": {
      "tags": []
     },
     "output_type": "display_data"
    }
   ],
   "source": [
    "## Dos 30 aos 69 anos\n",
    "grauDeCobertura = round(mean(tab$Cx[6:14]), 2)\n",
    "grauDeCobertura # Grau de cobertura 2.59?\n"
   ]
  },
  {
   "cell_type": "markdown",
   "metadata": {
    "id": "nEcXVUxFrKAw"
   },
   "source": [
    "**Cálculo dos qxs**"
   ]
  },
  {
   "cell_type": "code",
   "execution_count": null,
   "metadata": {
    "colab": {
     "base_uri": "https://localhost:8080/",
     "height": 289
    },
    "id": "0Jsyi-7zjPoR",
    "jupyter": {
     "source_hidden": true
    },
    "outputId": "60bb81c5-2405-4449-fba3-94da3c97bda0"
   },
   "outputs": [
    {
     "data": {
      "text/html": [
       "0.384944396920445"
      ],
      "text/latex": [
       "0.384944396920445"
      ],
      "text/markdown": [
       "0.384944396920445"
      ],
      "text/plain": [
       "[1] 0.3849444"
      ]
     },
     "metadata": {
      "tags": []
     },
     "output_type": "display_data"
    },
    {
     "data": {
      "text/html": [
       "<style>\n",
       ".list-inline {list-style: none; margin:0; padding: 0}\n",
       ".list-inline>li {display: inline-block}\n",
       ".list-inline>li:not(:last-child)::after {content: \"\\00b7\"; padding: 0 .5ex}\n",
       "</style>\n",
       "<ol class=list-inline><li>0.0425081381651446</li><li>0.0086317661516737</li><li>0.00539267945984364</li><li>0.00732755609985518</li><li>0.0144262906974771</li><li>0.00929337427134784</li><li>0.0115970242144418</li><li>0.011353982879174</li><li>0.0170733404462588</li><li>0.017585462128547</li><li>0.0248585070884722</li><li>0.0221749422307389</li><li>0.0398504066615027</li><li>0.0389488352150922</li><li>0.0570067739204064</li><li>0.0651366120218579</li><li>0.127106520832665</li></ol>\n"
      ],
      "text/latex": [
       "\\begin{enumerate*}\n",
       "\\item 0.0425081381651446\n",
       "\\item 0.0086317661516737\n",
       "\\item 0.00539267945984364\n",
       "\\item 0.00732755609985518\n",
       "\\item 0.0144262906974771\n",
       "\\item 0.00929337427134784\n",
       "\\item 0.0115970242144418\n",
       "\\item 0.011353982879174\n",
       "\\item 0.0170733404462588\n",
       "\\item 0.017585462128547\n",
       "\\item 0.0248585070884722\n",
       "\\item 0.0221749422307389\n",
       "\\item 0.0398504066615027\n",
       "\\item 0.0389488352150922\n",
       "\\item 0.0570067739204064\n",
       "\\item 0.0651366120218579\n",
       "\\item 0.127106520832665\n",
       "\\end{enumerate*}\n"
      ],
      "text/markdown": [
       "1. 0.0425081381651446\n",
       "2. 0.0086317661516737\n",
       "3. 0.00539267945984364\n",
       "4. 0.00732755609985518\n",
       "5. 0.0144262906974771\n",
       "6. 0.00929337427134784\n",
       "7. 0.0115970242144418\n",
       "8. 0.011353982879174\n",
       "9. 0.0170733404462588\n",
       "10. 0.017585462128547\n",
       "11. 0.0248585070884722\n",
       "12. 0.0221749422307389\n",
       "13. 0.0398504066615027\n",
       "14. 0.0389488352150922\n",
       "15. 0.0570067739204064\n",
       "16. 0.0651366120218579\n",
       "17. 0.127106520832665\n",
       "\n",
       "\n"
      ],
      "text/plain": [
       " [1] 0.042508138 0.008631766 0.005392679 0.007327556 0.014426291 0.009293374\n",
       " [7] 0.011597024 0.011353983 0.017073340 0.017585462 0.024858507 0.022174942\n",
       "[13] 0.039850407 0.038948835 0.057006774 0.065136612 0.127106521"
      ]
     },
     "metadata": {
      "tags": []
     },
     "output_type": "display_data"
    },
    {
     "data": {
      "text/html": [
       "<style>\n",
       ".list-inline {list-style: none; margin:0; padding: 0}\n",
       ".list-inline>li {display: inline-block}\n",
       ".list-inline>li:not(:last-child)::after {content: \"\\00b7\"; padding: 0 .5ex}\n",
       "</style>\n",
       "<ol class=list-inline><li>0.0163632696101925</li><li>0.00332275001561434</li><li>0.00207588174245478</li><li>0.00282070166375948</li><li>0.00555331977233936</li><li>0.00357743235423997</li><li>0.0044642094923001</li><li>0.0043706520920687</li><li>0.00657228674150251</li><li>0.00676942511364083</li><li>0.00956914301951455</li><li>0.00853611976375748</li><li>0.0153401907593466</li><li>0.0149931358826274</li><li>0.021944438207171</li><li>0.0250739738321951</li><li>0.0489289430065862</li></ol>\n"
      ],
      "text/latex": [
       "\\begin{enumerate*}\n",
       "\\item 0.0163632696101925\n",
       "\\item 0.00332275001561434\n",
       "\\item 0.00207588174245478\n",
       "\\item 0.00282070166375948\n",
       "\\item 0.00555331977233936\n",
       "\\item 0.00357743235423997\n",
       "\\item 0.0044642094923001\n",
       "\\item 0.0043706520920687\n",
       "\\item 0.00657228674150251\n",
       "\\item 0.00676942511364083\n",
       "\\item 0.00956914301951455\n",
       "\\item 0.00853611976375748\n",
       "\\item 0.0153401907593466\n",
       "\\item 0.0149931358826274\n",
       "\\item 0.021944438207171\n",
       "\\item 0.0250739738321951\n",
       "\\item 0.0489289430065862\n",
       "\\end{enumerate*}\n"
      ],
      "text/markdown": [
       "1. 0.0163632696101925\n",
       "2. 0.00332275001561434\n",
       "3. 0.00207588174245478\n",
       "4. 0.00282070166375948\n",
       "5. 0.00555331977233936\n",
       "6. 0.00357743235423997\n",
       "7. 0.0044642094923001\n",
       "8. 0.0043706520920687\n",
       "9. 0.00657228674150251\n",
       "10. 0.00676942511364083\n",
       "11. 0.00956914301951455\n",
       "12. 0.00853611976375748\n",
       "13. 0.0153401907593466\n",
       "14. 0.0149931358826274\n",
       "15. 0.021944438207171\n",
       "16. 0.0250739738321951\n",
       "17. 0.0489289430065862\n",
       "\n",
       "\n"
      ],
      "text/plain": [
       " [1] 0.016363270 0.003322750 0.002075882 0.002820702 0.005553320 0.003577432\n",
       " [7] 0.004464209 0.004370652 0.006572287 0.006769425 0.009569143 0.008536120\n",
       "[13] 0.015340191 0.014993136 0.021944438 0.025073974 0.048928943"
      ]
     },
     "metadata": {
      "tags": []
     },
     "output_type": "display_data"
    },
    {
     "data": {
      "text/html": [
       "<style>\n",
       ".list-inline {list-style: none; margin:0; padding: 0}\n",
       ".list-inline>li {display: inline-block}\n",
       ".list-inline>li:not(:last-child)::after {content: \"\\00b7\"; padding: 0 .5ex}\n",
       "</style>\n",
       "<ol class=list-inline><li>0.0163632696101925</li><li>0.00332275001561434</li><li>0.00207588174245478</li><li>0.00282070166375948</li><li>0.00555331977233936</li><li>0.00357743235423997</li><li>0.0044642094923001</li><li>0.0043706520920687</li><li>0.00657228674150251</li><li>0.00676942511364083</li><li>0.00956914301951455</li><li>0.00853611976375748</li><li>0.0153401907593466</li><li>0.0149931358826274</li><li>0.021944438207171</li><li>0.0250739738321951</li><li>0.0489289430065862</li></ol>\n"
      ],
      "text/latex": [
       "\\begin{enumerate*}\n",
       "\\item 0.0163632696101925\n",
       "\\item 0.00332275001561434\n",
       "\\item 0.00207588174245478\n",
       "\\item 0.00282070166375948\n",
       "\\item 0.00555331977233936\n",
       "\\item 0.00357743235423997\n",
       "\\item 0.0044642094923001\n",
       "\\item 0.0043706520920687\n",
       "\\item 0.00657228674150251\n",
       "\\item 0.00676942511364083\n",
       "\\item 0.00956914301951455\n",
       "\\item 0.00853611976375748\n",
       "\\item 0.0153401907593466\n",
       "\\item 0.0149931358826274\n",
       "\\item 0.021944438207171\n",
       "\\item 0.0250739738321951\n",
       "\\item 0.0489289430065862\n",
       "\\end{enumerate*}\n"
      ],
      "text/markdown": [
       "1. 0.0163632696101925\n",
       "2. 0.00332275001561434\n",
       "3. 0.00207588174245478\n",
       "4. 0.00282070166375948\n",
       "5. 0.00555331977233936\n",
       "6. 0.00357743235423997\n",
       "7. 0.0044642094923001\n",
       "8. 0.0043706520920687\n",
       "9. 0.00657228674150251\n",
       "10. 0.00676942511364083\n",
       "11. 0.00956914301951455\n",
       "12. 0.00853611976375748\n",
       "13. 0.0153401907593466\n",
       "14. 0.0149931358826274\n",
       "15. 0.021944438207171\n",
       "16. 0.0250739738321951\n",
       "17. 0.0489289430065862\n",
       "\n",
       "\n"
      ],
      "text/plain": [
       " [1] 0.016363270 0.003322750 0.002075882 0.002820702 0.005553320 0.003577432\n",
       " [7] 0.004464209 0.004370652 0.006572287 0.006769425 0.009569143 0.008536120\n",
       "[13] 0.015340191 0.014993136 0.021944438 0.025073974 0.048928943"
      ]
     },
     "metadata": {
      "tags": []
     },
     "output_type": "display_data"
    },
    {
     "data": {
      "text/html": [
       "<style>\n",
       ".list-inline {list-style: none; margin:0; padding: 0}\n",
       ".list-inline>li {display: inline-block}\n",
       ".list-inline>li:not(:last-child)::after {content: \"\\00b7\"; padding: 0 .5ex}\n",
       "</style>\n",
       "<ol class=list-inline><li>0.19212</li><li>0.04225</li><li>0.0266</li><li>0.03598</li><li>0.06962</li><li>0.04541</li><li>0.05635</li><li>0.0552</li><li>0.08187</li><li>0.08422</li><li>0.11702</li><li>0.10505</li><li>0.1812</li><li>0.17746</li><li>0.24948</li><li>0.28008</li><li>0.48228</li></ol>\n"
      ],
      "text/latex": [
       "\\begin{enumerate*}\n",
       "\\item 0.19212\n",
       "\\item 0.04225\n",
       "\\item 0.0266\n",
       "\\item 0.03598\n",
       "\\item 0.06962\n",
       "\\item 0.04541\n",
       "\\item 0.05635\n",
       "\\item 0.0552\n",
       "\\item 0.08187\n",
       "\\item 0.08422\n",
       "\\item 0.11702\n",
       "\\item 0.10505\n",
       "\\item 0.1812\n",
       "\\item 0.17746\n",
       "\\item 0.24948\n",
       "\\item 0.28008\n",
       "\\item 0.48228\n",
       "\\end{enumerate*}\n"
      ],
      "text/markdown": [
       "1. 0.19212\n",
       "2. 0.04225\n",
       "3. 0.0266\n",
       "4. 0.03598\n",
       "5. 0.06962\n",
       "6. 0.04541\n",
       "7. 0.05635\n",
       "8. 0.0552\n",
       "9. 0.08187\n",
       "10. 0.08422\n",
       "11. 0.11702\n",
       "12. 0.10505\n",
       "13. 0.1812\n",
       "14. 0.17746\n",
       "15. 0.24948\n",
       "16. 0.28008\n",
       "17. 0.48228\n",
       "\n",
       "\n"
      ],
      "text/plain": [
       " [1] 0.19212 0.04225 0.02660 0.03598 0.06962 0.04541 0.05635 0.05520 0.08187\n",
       "[10] 0.08422 0.11702 0.10505 0.18120 0.17746 0.24948 0.28008 0.48228"
      ]
     },
     "metadata": {
      "tags": []
     },
     "output_type": "display_data"
    },
    {
     "data": {
      "text/html": [
       "<style>\n",
       ".list-inline {list-style: none; margin:0; padding: 0}\n",
       ".list-inline>li {display: inline-block}\n",
       ".list-inline>li:not(:last-child)::after {content: \"\\00b7\"; padding: 0 .5ex}\n",
       "</style>\n",
       "<ol class=list-inline><li>0.0786</li><li>0.01648</li><li>0.01033</li><li>0.014</li><li>0.02739</li><li>0.01773</li><li>0.02207</li><li>0.02162</li><li>0.03233</li><li>0.03328</li><li>0.04673</li><li>0.04179</li><li>0.07387</li><li>0.07226</li><li>0.10402</li><li>0.11797</li><li>0.21798</li></ol>\n"
      ],
      "text/latex": [
       "\\begin{enumerate*}\n",
       "\\item 0.0786\n",
       "\\item 0.01648\n",
       "\\item 0.01033\n",
       "\\item 0.014\n",
       "\\item 0.02739\n",
       "\\item 0.01773\n",
       "\\item 0.02207\n",
       "\\item 0.02162\n",
       "\\item 0.03233\n",
       "\\item 0.03328\n",
       "\\item 0.04673\n",
       "\\item 0.04179\n",
       "\\item 0.07387\n",
       "\\item 0.07226\n",
       "\\item 0.10402\n",
       "\\item 0.11797\n",
       "\\item 0.21798\n",
       "\\end{enumerate*}\n"
      ],
      "text/markdown": [
       "1. 0.0786\n",
       "2. 0.01648\n",
       "3. 0.01033\n",
       "4. 0.014\n",
       "5. 0.02739\n",
       "6. 0.01773\n",
       "7. 0.02207\n",
       "8. 0.02162\n",
       "9. 0.03233\n",
       "10. 0.03328\n",
       "11. 0.04673\n",
       "12. 0.04179\n",
       "13. 0.07387\n",
       "14. 0.07226\n",
       "15. 0.10402\n",
       "16. 0.11797\n",
       "17. 0.21798\n",
       "\n",
       "\n"
      ],
      "text/plain": [
       " [1] 0.07860 0.01648 0.01033 0.01400 0.02739 0.01773 0.02207 0.02162 0.03233\n",
       "[10] 0.03328 0.04673 0.04179 0.07387 0.07226 0.10402 0.11797 0.21798"
      ]
     },
     "metadata": {
      "tags": []
     },
     "output_type": "display_data"
    }
   ],
   "source": [
    "# Fator de correção\n",
    "fatorC=1/mean(tab$Cx[6:14])\n",
    "fatorC\n",
    "\n",
    "#Taxa específica de mortalidade observada\n",
    "\n",
    "tab$temj<-tab$mortes/round(sqrt(as.numeric(tab$pop1)*as.numeric(tab$pop2)))\n",
    "tab$temj\n",
    "\n",
    "# Taxa específica de mortalidade ajustada \n",
    "\n",
    "tab$bhadj<-tab$temj/mean(tab$Cx[6:14]) #isso pode mudar. O gráfico acima ajuda na melhor definição dos pontos. Mais estável.\n",
    "tab$bhadj\n",
    "\n",
    "#outra opção\n",
    "\n",
    "tab$bhadj<-tab$temj*1/mean(tab$Cx[6:14]) #6:14 isso pode mudar. O gráfico acima ajuda na melhor definição dos pontos. Mais estável.\n",
    "tab$bhadj\n",
    "\n",
    "# 5qa observado\n",
    "\n",
    "tab$q.a.obs<-round(tab$temj*10/(2+5*tab$temj), digits=5)\n",
    "tab$q.a.obs\n",
    "\n",
    "# 5qa ajustado SEG\n",
    "\n",
    "tab$q.a.adj<-round(tab$bhadj*10/(2+5*tab$bhadj), digits=5)\n",
    "tab$q.a.adj\n",
    "\n"
   ]
  },
  {
   "cell_type": "markdown",
   "metadata": {
    "id": "hyondAt-0ndc"
   },
   "source": [
    "# **4. Kenneth Hill 2001 (Geração extinta ajustado)** - Método Híbrido (SEG ajustado)\n"
   ]
  },
  {
   "cell_type": "code",
   "execution_count": null,
   "metadata": {
    "colab": {
     "base_uri": "https://localhost:8080/",
     "height": 435
    },
    "id": "WqFBqW_b0p2Y",
    "jupyter": {
     "source_hidden": true
    },
    "outputId": "038bb102-aa46-4c68-e50c-4ce486f6dc28"
   },
   "outputs": [
    {
     "data": {
      "text/html": [
       "<table>\n",
       "<caption>A data.frame: 17 × 14</caption>\n",
       "<thead>\n",
       "\t<tr><th scope=col>idade</th><th scope=col>pop1</th><th scope=col>ano1</th><th scope=col>pop2</th><th scope=col>ano2</th><th scope=col>mortes</th><th scope=col>aniversario</th><th scope=col>cresc</th><th scope=col>cum_cresc</th><th scope=col>morte_tab</th><th scope=col>razao</th><th scope=col>aberto</th><th scope=col>pop_a</th><th scope=col>Cx</th></tr>\n",
       "\t<tr><th scope=col>&lt;chr&gt;</th><th scope=col>&lt;dbl&gt;</th><th scope=col>&lt;int&gt;</th><th scope=col>&lt;int&gt;</th><th scope=col>&lt;int&gt;</th><th scope=col>&lt;dbl&gt;</th><th scope=col>&lt;dbl&gt;</th><th scope=col>&lt;dbl&gt;</th><th scope=col>&lt;dbl&gt;</th><th scope=col>&lt;dbl&gt;</th><th scope=col>&lt;dbl&gt;</th><th scope=col>&lt;dbl&gt;</th><th scope=col>&lt;dbl&gt;</th><th scope=col>&lt;dbl&gt;</th></tr>\n",
       "</thead>\n",
       "<tbody>\n",
       "\t<tr><td> 0-4  </td><td>342358.44</td><td>1985</td><td>378305</td><td>1993</td><td>13423.9</td><td>    0</td><td> 0.01248</td><td>0.03120</td><td>13849</td><td>1.16</td><td>4.11</td><td>90037</td><td> Inf</td></tr>\n",
       "\t<tr><td> 5-9  </td><td>315048.05</td><td>1985</td><td>371652</td><td>1993</td><td> 2591.8</td><td>71341</td><td> 0.02065</td><td>0.11402</td><td> 2905</td><td>1.16</td><td>4.11</td><td>71579</td><td>1.00</td></tr>\n",
       "\t<tr><td> 10-14</td><td>193985.71</td><td>1985</td><td>274823</td><td>1993</td><td> 1092.6</td><td>58850</td><td> 0.04354</td><td>0.27450</td><td> 1438</td><td>1.16</td><td>4.11</td><td>62096</td><td>1.06</td></tr>\n",
       "\t<tr><td> 15-19</td><td>218012.99</td><td>1985</td><td>274725</td><td>1993</td><td> 1573.6</td><td>46170</td><td> 0.02890</td><td>0.45560</td><td> 2482</td><td>1.16</td><td>4.11</td><td>48968</td><td>1.06</td></tr>\n",
       "\t<tr><td> 20-24</td><td>180242.86</td><td>1985</td><td>225284</td><td>1993</td><td> 2550.9</td><td>44324</td><td> 0.02788</td><td>0.59755</td><td> 4637</td><td>1.16</td><td>4.11</td><td>40916</td><td>0.92</td></tr>\n",
       "\t<tr><td> 25-29</td><td>187645.45</td><td>1985</td><td>223704</td><td>1993</td><td> 1670.8</td><td>40160</td><td> 0.02197</td><td>0.72218</td><td> 3440</td><td>1.16</td><td>4.11</td><td>33213</td><td>0.83</td></tr>\n",
       "\t<tr><td> 30-34</td><td>143859.74</td><td>1985</td><td>172375</td><td>1993</td><td> 1602.5</td><td>35970</td><td> 0.02260</td><td>0.83360</td><td> 3688</td><td>1.16</td><td>4.11</td><td>28176</td><td>0.78</td></tr>\n",
       "\t<tr><td> 35-39</td><td>120566.23</td><td>1985</td><td>161441</td><td>1993</td><td> 1390.0</td><td>30479</td><td> 0.03649</td><td>0.98133</td><td> 3709</td><td>1.16</td><td>4.11</td><td>23651</td><td>0.78</td></tr>\n",
       "\t<tr><td> 40-44</td><td> 88974.03</td><td>1985</td><td>108528</td><td>1993</td><td> 1472.2</td><td>22878</td><td> 0.02483</td><td>1.13463</td><td> 4579</td><td>1.16</td><td>4.11</td><td>18438</td><td>0.81</td></tr>\n",
       "\t<tr><td> 45-49</td><td> 70792.21</td><td>1985</td><td> 82684</td><td>1993</td><td> 1180.6</td><td>17154</td><td> 0.01941</td><td>1.24522</td><td> 4101</td><td>1.16</td><td>4.11</td><td>14902</td><td>0.87</td></tr>\n",
       "\t<tr><td> 50-54</td><td> 59628.57</td><td>1985</td><td> 64084</td><td>1993</td><td> 1348.4</td><td>13471</td><td> 0.00901</td><td>1.31627</td><td> 5029</td><td>1.16</td><td>4.11</td><td>12399</td><td>0.92</td></tr>\n",
       "\t<tr><td> 55-59</td><td> 40115.58</td><td>1985</td><td> 40767</td><td>1993</td><td>  786.9</td><td> 9861</td><td> 0.00201</td><td>1.34382</td><td> 3017</td><td>1.16</td><td>4.11</td><td>10534</td><td>1.07</td></tr>\n",
       "\t<tr><td> 60-64</td><td> 45623.38</td><td>1985</td><td> 48582</td><td>1993</td><td> 1646.3</td><td> 8829</td><td> 0.00785</td><td>1.36848</td><td> 6469</td><td>1.16</td><td>4.11</td><td> 9646</td><td>1.09</td></tr>\n",
       "\t<tr><td> 65-69</td><td> 31801.30</td><td>1985</td><td> 31990</td><td>1993</td><td> 1090.1</td><td> 7641</td><td> 0.00074</td><td>1.38995</td><td> 4376</td><td>1.16</td><td>4.11</td><td> 7660</td><td>1.00</td></tr>\n",
       "\t<tr><td> 70-74</td><td> 24703.90</td><td>1985</td><td> 29330</td><td>1993</td><td> 1346.5</td><td> 6108</td><td> 0.02146</td><td>1.44545</td><td> 5714</td><td>1.16</td><td>4.11</td><td> 6544</td><td>1.07</td></tr>\n",
       "\t<tr><td> 75-79</td><td> 17875.32</td><td>1985</td><td> 17579</td><td>1993</td><td> 1013.2</td><td> 4168</td><td>-0.00209</td><td>1.49387</td><td> 4513</td><td>1.16</td><td>4.11</td><td> 4602</td><td>1.10</td></tr>\n",
       "\t<tr><td>80+   </td><td> 38625.97</td><td>1985</td><td> 32681</td><td>1993</td><td> 3962.8</td><td> 4834</td><td>-0.02089</td><td>1.43642</td><td>16666</td><td>1.16</td><td>4.11</td><td> 3632</td><td>0.75</td></tr>\n",
       "</tbody>\n",
       "</table>\n"
      ],
      "text/latex": [
       "A data.frame: 17 × 14\n",
       "\\begin{tabular}{llllllllllllll}\n",
       " idade & pop1 & ano1 & pop2 & ano2 & mortes & aniversario & cresc & cum\\_cresc & morte\\_tab & razao & aberto & pop\\_a & Cx\\\\\n",
       " <chr> & <dbl> & <int> & <int> & <int> & <dbl> & <dbl> & <dbl> & <dbl> & <dbl> & <dbl> & <dbl> & <dbl> & <dbl>\\\\\n",
       "\\hline\n",
       "\t  0-4   & 342358.44 & 1985 & 378305 & 1993 & 13423.9 &     0 &  0.01248 & 0.03120 & 13849 & 1.16 & 4.11 & 90037 &  Inf\\\\\n",
       "\t  5-9   & 315048.05 & 1985 & 371652 & 1993 &  2591.8 & 71341 &  0.02065 & 0.11402 &  2905 & 1.16 & 4.11 & 71579 & 1.00\\\\\n",
       "\t  10-14 & 193985.71 & 1985 & 274823 & 1993 &  1092.6 & 58850 &  0.04354 & 0.27450 &  1438 & 1.16 & 4.11 & 62096 & 1.06\\\\\n",
       "\t  15-19 & 218012.99 & 1985 & 274725 & 1993 &  1573.6 & 46170 &  0.02890 & 0.45560 &  2482 & 1.16 & 4.11 & 48968 & 1.06\\\\\n",
       "\t  20-24 & 180242.86 & 1985 & 225284 & 1993 &  2550.9 & 44324 &  0.02788 & 0.59755 &  4637 & 1.16 & 4.11 & 40916 & 0.92\\\\\n",
       "\t  25-29 & 187645.45 & 1985 & 223704 & 1993 &  1670.8 & 40160 &  0.02197 & 0.72218 &  3440 & 1.16 & 4.11 & 33213 & 0.83\\\\\n",
       "\t  30-34 & 143859.74 & 1985 & 172375 & 1993 &  1602.5 & 35970 &  0.02260 & 0.83360 &  3688 & 1.16 & 4.11 & 28176 & 0.78\\\\\n",
       "\t  35-39 & 120566.23 & 1985 & 161441 & 1993 &  1390.0 & 30479 &  0.03649 & 0.98133 &  3709 & 1.16 & 4.11 & 23651 & 0.78\\\\\n",
       "\t  40-44 &  88974.03 & 1985 & 108528 & 1993 &  1472.2 & 22878 &  0.02483 & 1.13463 &  4579 & 1.16 & 4.11 & 18438 & 0.81\\\\\n",
       "\t  45-49 &  70792.21 & 1985 &  82684 & 1993 &  1180.6 & 17154 &  0.01941 & 1.24522 &  4101 & 1.16 & 4.11 & 14902 & 0.87\\\\\n",
       "\t  50-54 &  59628.57 & 1985 &  64084 & 1993 &  1348.4 & 13471 &  0.00901 & 1.31627 &  5029 & 1.16 & 4.11 & 12399 & 0.92\\\\\n",
       "\t  55-59 &  40115.58 & 1985 &  40767 & 1993 &   786.9 &  9861 &  0.00201 & 1.34382 &  3017 & 1.16 & 4.11 & 10534 & 1.07\\\\\n",
       "\t  60-64 &  45623.38 & 1985 &  48582 & 1993 &  1646.3 &  8829 &  0.00785 & 1.36848 &  6469 & 1.16 & 4.11 &  9646 & 1.09\\\\\n",
       "\t  65-69 &  31801.30 & 1985 &  31990 & 1993 &  1090.1 &  7641 &  0.00074 & 1.38995 &  4376 & 1.16 & 4.11 &  7660 & 1.00\\\\\n",
       "\t  70-74 &  24703.90 & 1985 &  29330 & 1993 &  1346.5 &  6108 &  0.02146 & 1.44545 &  5714 & 1.16 & 4.11 &  6544 & 1.07\\\\\n",
       "\t  75-79 &  17875.32 & 1985 &  17579 & 1993 &  1013.2 &  4168 & -0.00209 & 1.49387 &  4513 & 1.16 & 4.11 &  4602 & 1.10\\\\\n",
       "\t 80+    &  38625.97 & 1985 &  32681 & 1993 &  3962.8 &  4834 & -0.02089 & 1.43642 & 16666 & 1.16 & 4.11 &  3632 & 0.75\\\\\n",
       "\\end{tabular}\n"
      ],
      "text/markdown": [
       "\n",
       "A data.frame: 17 × 14\n",
       "\n",
       "| idade &lt;chr&gt; | pop1 &lt;dbl&gt; | ano1 &lt;int&gt; | pop2 &lt;int&gt; | ano2 &lt;int&gt; | mortes &lt;dbl&gt; | aniversario &lt;dbl&gt; | cresc &lt;dbl&gt; | cum_cresc &lt;dbl&gt; | morte_tab &lt;dbl&gt; | razao &lt;dbl&gt; | aberto &lt;dbl&gt; | pop_a &lt;dbl&gt; | Cx &lt;dbl&gt; |\n",
       "|---|---|---|---|---|---|---|---|---|---|---|---|---|---|\n",
       "|  0-4   | 342358.44 | 1985 | 378305 | 1993 | 13423.9 |     0 |  0.01248 | 0.03120 | 13849 | 1.16 | 4.11 | 90037 |  Inf |\n",
       "|  5-9   | 315048.05 | 1985 | 371652 | 1993 |  2591.8 | 71341 |  0.02065 | 0.11402 |  2905 | 1.16 | 4.11 | 71579 | 1.00 |\n",
       "|  10-14 | 193985.71 | 1985 | 274823 | 1993 |  1092.6 | 58850 |  0.04354 | 0.27450 |  1438 | 1.16 | 4.11 | 62096 | 1.06 |\n",
       "|  15-19 | 218012.99 | 1985 | 274725 | 1993 |  1573.6 | 46170 |  0.02890 | 0.45560 |  2482 | 1.16 | 4.11 | 48968 | 1.06 |\n",
       "|  20-24 | 180242.86 | 1985 | 225284 | 1993 |  2550.9 | 44324 |  0.02788 | 0.59755 |  4637 | 1.16 | 4.11 | 40916 | 0.92 |\n",
       "|  25-29 | 187645.45 | 1985 | 223704 | 1993 |  1670.8 | 40160 |  0.02197 | 0.72218 |  3440 | 1.16 | 4.11 | 33213 | 0.83 |\n",
       "|  30-34 | 143859.74 | 1985 | 172375 | 1993 |  1602.5 | 35970 |  0.02260 | 0.83360 |  3688 | 1.16 | 4.11 | 28176 | 0.78 |\n",
       "|  35-39 | 120566.23 | 1985 | 161441 | 1993 |  1390.0 | 30479 |  0.03649 | 0.98133 |  3709 | 1.16 | 4.11 | 23651 | 0.78 |\n",
       "|  40-44 |  88974.03 | 1985 | 108528 | 1993 |  1472.2 | 22878 |  0.02483 | 1.13463 |  4579 | 1.16 | 4.11 | 18438 | 0.81 |\n",
       "|  45-49 |  70792.21 | 1985 |  82684 | 1993 |  1180.6 | 17154 |  0.01941 | 1.24522 |  4101 | 1.16 | 4.11 | 14902 | 0.87 |\n",
       "|  50-54 |  59628.57 | 1985 |  64084 | 1993 |  1348.4 | 13471 |  0.00901 | 1.31627 |  5029 | 1.16 | 4.11 | 12399 | 0.92 |\n",
       "|  55-59 |  40115.58 | 1985 |  40767 | 1993 |   786.9 |  9861 |  0.00201 | 1.34382 |  3017 | 1.16 | 4.11 | 10534 | 1.07 |\n",
       "|  60-64 |  45623.38 | 1985 |  48582 | 1993 |  1646.3 |  8829 |  0.00785 | 1.36848 |  6469 | 1.16 | 4.11 |  9646 | 1.09 |\n",
       "|  65-69 |  31801.30 | 1985 |  31990 | 1993 |  1090.1 |  7641 |  0.00074 | 1.38995 |  4376 | 1.16 | 4.11 |  7660 | 1.00 |\n",
       "|  70-74 |  24703.90 | 1985 |  29330 | 1993 |  1346.5 |  6108 |  0.02146 | 1.44545 |  5714 | 1.16 | 4.11 |  6544 | 1.07 |\n",
       "|  75-79 |  17875.32 | 1985 |  17579 | 1993 |  1013.2 |  4168 | -0.00209 | 1.49387 |  4513 | 1.16 | 4.11 |  4602 | 1.10 |\n",
       "| 80+    |  38625.97 | 1985 |  32681 | 1993 |  3962.8 |  4834 | -0.02089 | 1.43642 | 16666 | 1.16 | 4.11 |  3632 | 0.75 |\n",
       "\n"
      ],
      "text/plain": [
       "   idade  pop1      ano1 pop2   ano2 mortes  aniversario cresc    cum_cresc\n",
       "1   0-4   342358.44 1985 378305 1993 13423.9     0        0.01248 0.03120  \n",
       "2   5-9   315048.05 1985 371652 1993  2591.8 71341        0.02065 0.11402  \n",
       "3   10-14 193985.71 1985 274823 1993  1092.6 58850        0.04354 0.27450  \n",
       "4   15-19 218012.99 1985 274725 1993  1573.6 46170        0.02890 0.45560  \n",
       "5   20-24 180242.86 1985 225284 1993  2550.9 44324        0.02788 0.59755  \n",
       "6   25-29 187645.45 1985 223704 1993  1670.8 40160        0.02197 0.72218  \n",
       "7   30-34 143859.74 1985 172375 1993  1602.5 35970        0.02260 0.83360  \n",
       "8   35-39 120566.23 1985 161441 1993  1390.0 30479        0.03649 0.98133  \n",
       "9   40-44  88974.03 1985 108528 1993  1472.2 22878        0.02483 1.13463  \n",
       "10  45-49  70792.21 1985  82684 1993  1180.6 17154        0.01941 1.24522  \n",
       "11  50-54  59628.57 1985  64084 1993  1348.4 13471        0.00901 1.31627  \n",
       "12  55-59  40115.58 1985  40767 1993   786.9  9861        0.00201 1.34382  \n",
       "13  60-64  45623.38 1985  48582 1993  1646.3  8829        0.00785 1.36848  \n",
       "14  65-69  31801.30 1985  31990 1993  1090.1  7641        0.00074 1.38995  \n",
       "15  70-74  24703.90 1985  29330 1993  1346.5  6108        0.02146 1.44545  \n",
       "16  75-79  17875.32 1985  17579 1993  1013.2  4168       -0.00209 1.49387  \n",
       "17 80+     38625.97 1985  32681 1993  3962.8  4834       -0.02089 1.43642  \n",
       "   morte_tab razao aberto pop_a Cx  \n",
       "1  13849     1.16  4.11   90037  Inf\n",
       "2   2905     1.16  4.11   71579 1.00\n",
       "3   1438     1.16  4.11   62096 1.06\n",
       "4   2482     1.16  4.11   48968 1.06\n",
       "5   4637     1.16  4.11   40916 0.92\n",
       "6   3440     1.16  4.11   33213 0.83\n",
       "7   3688     1.16  4.11   28176 0.78\n",
       "8   3709     1.16  4.11   23651 0.78\n",
       "9   4579     1.16  4.11   18438 0.81\n",
       "10  4101     1.16  4.11   14902 0.87\n",
       "11  5029     1.16  4.11   12399 0.92\n",
       "12  3017     1.16  4.11   10534 1.07\n",
       "13  6469     1.16  4.11    9646 1.09\n",
       "14  4376     1.16  4.11    7660 1.00\n",
       "15  5714     1.16  4.11    6544 1.07\n",
       "16  4513     1.16  4.11    4602 1.10\n",
       "17 16666     1.16  4.11    3632 0.75"
      ]
     },
     "metadata": {
      "tags": []
     },
     "output_type": "display_data"
    }
   ],
   "source": [
    "tab = mort_mulheres_colombia\n",
    "\n",
    "# Fazendo o ajuste pela relação de cobertura entre os censos\n",
    "# Valor estimado pelo GGB - ver aula passada. 0.77 é a variação de cobertura entre censos.\n",
    "# Com base nas informações dos grupos de idade de 15 a 65+\n",
    "# ajustando a primeira população pelo cobertura entre censos\n",
    "\n",
    "cobertura.censos = 0.77 # Valor estimado pelo GGB\n",
    "\n",
    "tab$pop1 = tab$pop1/cobertura.censos\n",
    "\n",
    "# Cálculo do Período de tempo\n",
    "extensaoPeriodo<-tab$ano2[1]-tab$ano1[1]\n",
    "\n",
    "## Gerando os aniversarios na idade exata, Nx (lembrando que partimos de grupos quinquenais)\n",
    "## Utilizando informação de população e grupos de idades adjacentes em dois censos.\n",
    "## Retira-se uma média geométrica\n",
    "tab$aniversario = 0\n",
    "for (i in 2:ultimaLinha) {\n",
    "  tab$aniversario[i] = round(0.2 * sqrt(as.numeric(tab$pop1[i-1]) * as.numeric(tab$pop2[i])))\n",
    "}\n",
    "\n",
    "## Taxa de crescimento\n",
    "for (i in 1:ultimaLinha) {\n",
    "  tab$cresc[i] = round(log(tab$pop2[i]/tab$pop1[i])/extensaoPeriodo, digits=5)}\n",
    "\n",
    "# Taxa de crescimento acumulado, r(a-x) \n",
    "tab$cum_cresc = 0\n",
    "# Para a primeira idade\n",
    "tab$cum_cresc[1] = round(2.5 * tab$cresc[1], 5)\n",
    "# Para as demais - Na idade x 2.5 e demais multiplica por 5. Por que 5?\n",
    "for (i in 2:ultimaLinha) {\n",
    "  tab$cum_cresc[i] = round(2.5 * tab$cresc[i] + \n",
    "    5 * sum(tab$cresc[(i-1):1]), digits=5)\n",
    "}\n",
    "\n",
    "# Mortes na tabela de vida\n",
    "for (i in 1:ultimaLinha) {\n",
    "  tab$morte_tab[i] = round(tab$mortes[i] * exp(tab$cum_cresc[i]), digits=0)\n",
    "}\n",
    "\n",
    "# Razao entre mortes de 10-40/40-60, ou 30d10/20d40. \n",
    "# Usado para estimar intervalo aberto, ou N'x em intervalo aberto\n",
    "tab$razao = round(sum(tab$morte_tab[3:8])/sum(tab$morte_tab[9:12]), digits=3)\n",
    "\n",
    "# valores sexo feminino tabua modelo Oeste. \n",
    "# Interpolacao para gerar mortes em intervalo aberto.\n",
    "# Ver tabela em artigo\n",
    "tab$aberto = round(4.88 + ((0.872 - tab$razao[1])/(0.872 - 0.827)) * (5 - 4.88), digits=2) \n",
    "# Para homens\n",
    "# aberto<-round(4.5+((0.725-razao[1])/(0.725-0.689))*(4.61-4.5), digits=2)\n",
    "\n",
    "# População N'a para ultimo grupo da tabua\n",
    "tab$pop_a = 0\n",
    "# D*(exp(e(x)+*r+)-(e(x)+*r+)^2/6)\n",
    "tab$pop_a[ultimaLinha] = round(tab$mortes[ultimaLinha] * \n",
    "  (exp(tab$aberto[ultimaLinha] * tab$cresc[ultimaLinha]) - ((tab$aberto[ultimaLinha] * tab$cresc[ultimaLinha])^2/6))\n",
    "  , digits=0)\n",
    "\n",
    "## População para os demais \n",
    "for (i in length(tab$idade):1) {\n",
    "  tab$pop_a[i-1] = round(tab$pop_a[i] * exp(5 * tab$cresc[i-1]) +\n",
    "  tab$mortes[i-1] * exp(2.5 * tab$cresc[i-1]), digits=0)\n",
    "}\n",
    "\n",
    "### Grau de cobertura para cada idade\n",
    "tab$Cx = round(tab$pop_a/tab$aniversario, digits=2)\n",
    "\n",
    "tab"
   ]
  },
  {
   "cell_type": "code",
   "execution_count": null,
   "metadata": {
    "colab": {
     "base_uri": "https://localhost:8080/",
     "height": 437
    },
    "id": "LjbQGma1OF5-",
    "jupyter": {
     "source_hidden": true
    },
    "outputId": "ace5cd6f-33dc-48e4-debe-afbbb7d8ad49"
   },
   "outputs": [
    {
     "data": {
      "image/png": "[encoded data removed]",
      "text/plain": [
       "Plot with title “Grau de cobertura pelo método Geração Extintas Ajustadas”"
      ]
     },
     "metadata": {
      "image/png": {
       "height": 420,
       "width": 420
      },
      "tags": []
     },
     "output_type": "display_data"
    }
   ],
   "source": [
    "# Seleção de idades através de gráfico\n",
    "# windows(height= 10,width=10)\n",
    "plot(seq(5,80,5),tab$Cx[2:17], type='b', lwd=2, ylim=c(0,1.3), \n",
    "     main='Grau de cobertura pelo método Geração Extintas Ajustadas',\n",
    "     xlab='idades', ylab='Grau de cobertura')\n",
    "\n",
    "abline(h=1, lty=2, col='red')\n",
    "\n",
    "grid(10,10)"
   ]
  },
  {
   "cell_type": "code",
   "execution_count": null,
   "metadata": {
    "colab": {
     "base_uri": "https://localhost:8080/",
     "height": 34
    },
    "id": "tmFoXksJOD1R",
    "jupyter": {
     "source_hidden": true
    },
    "outputId": "a00d546d-161d-4b77-bf65-535bbddc15ac"
   },
   "outputs": [
    {
     "data": {
      "text/html": [
       "0.905555555555556"
      ],
      "text/latex": [
       "0.905555555555556"
      ],
      "text/markdown": [
       "0.905555555555556"
      ],
      "text/plain": [
       "[1] 0.9055556"
      ]
     },
     "metadata": {
      "tags": []
     },
     "output_type": "display_data"
    }
   ],
   "source": [
    "# Dos 30 aos 69 anos\n",
    "grauDeCobertura = mean(tab$Cx[6:14])\n",
    "grauDeCobertura\n",
    "# Grau de cobertura 0.92. Melhorou em relação ao anterior?\n",
    "# Depois ajusta a taxa ou obitos\n",
    "# taxa vezes grau de cobertura ou dividida pelo fator de correção"
   ]
  },
  {
   "cell_type": "markdown",
   "metadata": {
    "id": "Wh2M5Yvyxg29"
   },
   "source": [
    "**CÁLCULO DOS qxs**\n"
   ]
  },
  {
   "cell_type": "code",
   "execution_count": null,
   "metadata": {
    "colab": {
     "base_uri": "https://localhost:8080/",
     "height": 272
    },
    "id": "eZymx_DhxfzJ",
    "jupyter": {
     "source_hidden": true
    },
    "outputId": "7da17bfc-d5eb-4833-8bbd-2f1ef390fae1"
   },
   "outputs": [
    {
     "data": {
      "text/html": [
       "1.10429447852761"
      ],
      "text/latex": [
       "1.10429447852761"
      ],
      "text/markdown": [
       "1.10429447852761"
      ],
      "text/plain": [
       "[1] 1.104294"
      ]
     },
     "metadata": {
      "tags": []
     },
     "output_type": "display_data"
    },
    {
     "data": {
      "text/html": [
       "<style>\n",
       ".list-inline {list-style: none; margin:0; padding: 0}\n",
       ".list-inline>li {display: inline-block}\n",
       ".list-inline>li:not(:last-child)::after {content: \"\\00b7\"; padding: 0 .5ex}\n",
       "</style>\n",
       "<ol class=list-inline><li>0.0373007338496122</li><li>0.00757433178834655</li><li>0.00473206203739394</li><li>0.00642989065590115</li><li>0.0126589879360227</li><li>0.00815489816138967</li><li>0.0101763476913503</li><li>0.00996308640647959</li><li>0.0149817841369344</li><li>0.0154312677271361</li><li>0.0218131228160994</li><li>0.0194584569732938</li><li>0.0349688820918031</li><li>0.0341766992726361</li><li>0.0500222899175273</li><li>0.0571557511141197</li><li>0.111537054237384</li></ol>\n"
      ],
      "text/latex": [
       "\\begin{enumerate*}\n",
       "\\item 0.0373007338496122\n",
       "\\item 0.00757433178834655\n",
       "\\item 0.00473206203739394\n",
       "\\item 0.00642989065590115\n",
       "\\item 0.0126589879360227\n",
       "\\item 0.00815489816138967\n",
       "\\item 0.0101763476913503\n",
       "\\item 0.00996308640647959\n",
       "\\item 0.0149817841369344\n",
       "\\item 0.0154312677271361\n",
       "\\item 0.0218131228160994\n",
       "\\item 0.0194584569732938\n",
       "\\item 0.0349688820918031\n",
       "\\item 0.0341766992726361\n",
       "\\item 0.0500222899175273\n",
       "\\item 0.0571557511141197\n",
       "\\item 0.111537054237384\n",
       "\\end{enumerate*}\n"
      ],
      "text/markdown": [
       "1. 0.0373007338496122\n",
       "2. 0.00757433178834655\n",
       "3. 0.00473206203739394\n",
       "4. 0.00642989065590115\n",
       "5. 0.0126589879360227\n",
       "6. 0.00815489816138967\n",
       "7. 0.0101763476913503\n",
       "8. 0.00996308640647959\n",
       "9. 0.0149817841369344\n",
       "10. 0.0154312677271361\n",
       "11. 0.0218131228160994\n",
       "12. 0.0194584569732938\n",
       "13. 0.0349688820918031\n",
       "14. 0.0341766992726361\n",
       "15. 0.0500222899175273\n",
       "16. 0.0571557511141197\n",
       "17. 0.111537054237384\n",
       "\n",
       "\n"
      ],
      "text/plain": [
       " [1] 0.037300734 0.007574332 0.004732062 0.006429891 0.012658988 0.008154898\n",
       " [7] 0.010176348 0.009963086 0.014981784 0.015431268 0.021813123 0.019458457\n",
       "[13] 0.034968882 0.034176699 0.050022290 0.057155751 0.111537054"
      ]
     },
     "metadata": {
      "tags": []
     },
     "output_type": "display_data"
    },
    {
     "data": {
      "text/html": [
       "<style>\n",
       ".list-inline {list-style: none; margin:0; padding: 0}\n",
       ".list-inline>li {display: inline-block}\n",
       ".list-inline>li:not(:last-child)::after {content: \"\\00b7\"; padding: 0 .5ex}\n",
       "</style>\n",
       "<ol class=list-inline><li>0.0411909944351546</li><li>0.00836429277240724</li><li>0.00522558997994423</li><li>0.00710049274884789</li><li>0.0139792504814975</li><li>0.00900540901257755</li><li>0.0112376845671353</li><li>0.0110021813077689</li><li>0.0165443015009092</li><li>0.0170406637477576</li><li>0.0240881110852631</li><li>0.0214878665962753</li><li>0.0386159434142611</li><li>0.0377411403010705</li><li>0.0552393385592326</li><li>0.0631167803714205</li><li>0.123169753145577</li></ol>\n"
      ],
      "text/latex": [
       "\\begin{enumerate*}\n",
       "\\item 0.0411909944351546\n",
       "\\item 0.00836429277240724\n",
       "\\item 0.00522558997994423\n",
       "\\item 0.00710049274884789\n",
       "\\item 0.0139792504814975\n",
       "\\item 0.00900540901257755\n",
       "\\item 0.0112376845671353\n",
       "\\item 0.0110021813077689\n",
       "\\item 0.0165443015009092\n",
       "\\item 0.0170406637477576\n",
       "\\item 0.0240881110852631\n",
       "\\item 0.0214878665962753\n",
       "\\item 0.0386159434142611\n",
       "\\item 0.0377411403010705\n",
       "\\item 0.0552393385592326\n",
       "\\item 0.0631167803714205\n",
       "\\item 0.123169753145577\n",
       "\\end{enumerate*}\n"
      ],
      "text/markdown": [
       "1. 0.0411909944351546\n",
       "2. 0.00836429277240724\n",
       "3. 0.00522558997994423\n",
       "4. 0.00710049274884789\n",
       "5. 0.0139792504814975\n",
       "6. 0.00900540901257755\n",
       "7. 0.0112376845671353\n",
       "8. 0.0110021813077689\n",
       "9. 0.0165443015009092\n",
       "10. 0.0170406637477576\n",
       "11. 0.0240881110852631\n",
       "12. 0.0214878665962753\n",
       "13. 0.0386159434142611\n",
       "14. 0.0377411403010705\n",
       "15. 0.0552393385592326\n",
       "16. 0.0631167803714205\n",
       "17. 0.123169753145577\n",
       "\n",
       "\n"
      ],
      "text/plain": [
       " [1] 0.041190994 0.008364293 0.005225590 0.007100493 0.013979250 0.009005409\n",
       " [7] 0.011237685 0.011002181 0.016544302 0.017040664 0.024088111 0.021487867\n",
       "[13] 0.038615943 0.037741140 0.055239339 0.063116780 0.123169753"
      ]
     },
     "metadata": {
      "tags": []
     },
     "output_type": "display_data"
    },
    {
     "data": {
      "text/html": [
       "<style>\n",
       ".list-inline {list-style: none; margin:0; padding: 0}\n",
       ".list-inline>li {display: inline-block}\n",
       ".list-inline>li:not(:last-child)::after {content: \"\\00b7\"; padding: 0 .5ex}\n",
       "</style>\n",
       "<ol class=list-inline><li>0.0411909944351546</li><li>0.00836429277240724</li><li>0.00522558997994423</li><li>0.00710049274884789</li><li>0.0139792504814975</li><li>0.00900540901257755</li><li>0.0112376845671353</li><li>0.0110021813077689</li><li>0.0165443015009092</li><li>0.0170406637477576</li><li>0.0240881110852631</li><li>0.0214878665962753</li><li>0.0386159434142611</li><li>0.0377411403010705</li><li>0.0552393385592326</li><li>0.0631167803714205</li><li>0.123169753145577</li></ol>\n"
      ],
      "text/latex": [
       "\\begin{enumerate*}\n",
       "\\item 0.0411909944351546\n",
       "\\item 0.00836429277240724\n",
       "\\item 0.00522558997994423\n",
       "\\item 0.00710049274884789\n",
       "\\item 0.0139792504814975\n",
       "\\item 0.00900540901257755\n",
       "\\item 0.0112376845671353\n",
       "\\item 0.0110021813077689\n",
       "\\item 0.0165443015009092\n",
       "\\item 0.0170406637477576\n",
       "\\item 0.0240881110852631\n",
       "\\item 0.0214878665962753\n",
       "\\item 0.0386159434142611\n",
       "\\item 0.0377411403010705\n",
       "\\item 0.0552393385592326\n",
       "\\item 0.0631167803714205\n",
       "\\item 0.123169753145577\n",
       "\\end{enumerate*}\n"
      ],
      "text/markdown": [
       "1. 0.0411909944351546\n",
       "2. 0.00836429277240724\n",
       "3. 0.00522558997994423\n",
       "4. 0.00710049274884789\n",
       "5. 0.0139792504814975\n",
       "6. 0.00900540901257755\n",
       "7. 0.0112376845671353\n",
       "8. 0.0110021813077689\n",
       "9. 0.0165443015009092\n",
       "10. 0.0170406637477576\n",
       "11. 0.0240881110852631\n",
       "12. 0.0214878665962753\n",
       "13. 0.0386159434142611\n",
       "14. 0.0377411403010705\n",
       "15. 0.0552393385592326\n",
       "16. 0.0631167803714205\n",
       "17. 0.123169753145577\n",
       "\n",
       "\n"
      ],
      "text/plain": [
       " [1] 0.041190994 0.008364293 0.005225590 0.007100493 0.013979250 0.009005409\n",
       " [7] 0.011237685 0.011002181 0.016544302 0.017040664 0.024088111 0.021487867\n",
       "[13] 0.038615943 0.037741140 0.055239339 0.063116780 0.123169753"
      ]
     },
     "metadata": {
      "tags": []
     },
     "output_type": "display_data"
    },
    {
     "data": {
      "text/html": [
       "<style>\n",
       ".list-inline {list-style: none; margin:0; padding: 0}\n",
       ".list-inline>li {display: inline-block}\n",
       ".list-inline>li:not(:last-child)::after {content: \"\\00b7\"; padding: 0 .5ex}\n",
       "</style>\n",
       "<ol class=list-inline><li>0.1706</li><li>0.03717</li><li>0.02338</li><li>0.03164</li><li>0.06135</li><li>0.03996</li><li>0.04962</li><li>0.0486</li><li>0.0722</li><li>0.07429</li><li>0.10343</li><li>0.09278</li><li>0.16079</li><li>0.15743</li><li>0.22231</li><li>0.25005</li><li>0.43609</li></ol>\n"
      ],
      "text/latex": [
       "\\begin{enumerate*}\n",
       "\\item 0.1706\n",
       "\\item 0.03717\n",
       "\\item 0.02338\n",
       "\\item 0.03164\n",
       "\\item 0.06135\n",
       "\\item 0.03996\n",
       "\\item 0.04962\n",
       "\\item 0.0486\n",
       "\\item 0.0722\n",
       "\\item 0.07429\n",
       "\\item 0.10343\n",
       "\\item 0.09278\n",
       "\\item 0.16079\n",
       "\\item 0.15743\n",
       "\\item 0.22231\n",
       "\\item 0.25005\n",
       "\\item 0.43609\n",
       "\\end{enumerate*}\n"
      ],
      "text/markdown": [
       "1. 0.1706\n",
       "2. 0.03717\n",
       "3. 0.02338\n",
       "4. 0.03164\n",
       "5. 0.06135\n",
       "6. 0.03996\n",
       "7. 0.04962\n",
       "8. 0.0486\n",
       "9. 0.0722\n",
       "10. 0.07429\n",
       "11. 0.10343\n",
       "12. 0.09278\n",
       "13. 0.16079\n",
       "14. 0.15743\n",
       "15. 0.22231\n",
       "16. 0.25005\n",
       "17. 0.43609\n",
       "\n",
       "\n"
      ],
      "text/plain": [
       " [1] 0.17060 0.03717 0.02338 0.03164 0.06135 0.03996 0.04962 0.04860 0.07220\n",
       "[10] 0.07429 0.10343 0.09278 0.16079 0.15743 0.22231 0.25005 0.43609"
      ]
     },
     "metadata": {
      "tags": []
     },
     "output_type": "display_data"
    },
    {
     "data": {
      "text/html": [
       "<style>\n",
       ".list-inline {list-style: none; margin:0; padding: 0}\n",
       ".list-inline>li {display: inline-block}\n",
       ".list-inline>li:not(:last-child)::after {content: \"\\00b7\"; padding: 0 .5ex}\n",
       "</style>\n",
       "<ol class=list-inline><li>0.18673</li><li>0.04096</li><li>0.02579</li><li>0.03488</li><li>0.06754</li><li>0.04404</li><li>0.05465</li><li>0.05354</li><li>0.07944</li><li>0.08172</li><li>0.1136</li><li>0.10196</li><li>0.17608</li><li>0.17244</li><li>0.24268</li><li>0.27257</li><li>0.47086</li></ol>\n"
      ],
      "text/latex": [
       "\\begin{enumerate*}\n",
       "\\item 0.18673\n",
       "\\item 0.04096\n",
       "\\item 0.02579\n",
       "\\item 0.03488\n",
       "\\item 0.06754\n",
       "\\item 0.04404\n",
       "\\item 0.05465\n",
       "\\item 0.05354\n",
       "\\item 0.07944\n",
       "\\item 0.08172\n",
       "\\item 0.1136\n",
       "\\item 0.10196\n",
       "\\item 0.17608\n",
       "\\item 0.17244\n",
       "\\item 0.24268\n",
       "\\item 0.27257\n",
       "\\item 0.47086\n",
       "\\end{enumerate*}\n"
      ],
      "text/markdown": [
       "1. 0.18673\n",
       "2. 0.04096\n",
       "3. 0.02579\n",
       "4. 0.03488\n",
       "5. 0.06754\n",
       "6. 0.04404\n",
       "7. 0.05465\n",
       "8. 0.05354\n",
       "9. 0.07944\n",
       "10. 0.08172\n",
       "11. 0.1136\n",
       "12. 0.10196\n",
       "13. 0.17608\n",
       "14. 0.17244\n",
       "15. 0.24268\n",
       "16. 0.27257\n",
       "17. 0.47086\n",
       "\n",
       "\n"
      ],
      "text/plain": [
       " [1] 0.18673 0.04096 0.02579 0.03488 0.06754 0.04404 0.05465 0.05354 0.07944\n",
       "[10] 0.08172 0.11360 0.10196 0.17608 0.17244 0.24268 0.27257 0.47086"
      ]
     },
     "metadata": {
      "tags": []
     },
     "output_type": "display_data"
    }
   ],
   "source": [
    "# Fator de correção\n",
    "fatorC=1/mean(tab$Cx[6:14])\n",
    "fatorC\n",
    "\n",
    "#Taxa específica de mortalidade observada\n",
    "\n",
    "tab$temj<-tab$mortes/round(sqrt(as.numeric(tab$pop1)*as.numeric(tab$pop2)))\n",
    "tab$temj\n",
    "\n",
    "# Taxa específica de mortalidade ajustada \n",
    "\n",
    "tab$ggbbhadj<-tab$temj/mean(tab$Cx[6:14]) #isso pode mudar. O gráfico acima ajuda na melhor definição dos pontos. Mais estável.\n",
    "tab$ggbbhadj\n",
    "\n",
    "#outra opção\n",
    "\n",
    "tab$ggbbhadj<-tab$temj*1/mean(tab$Cx[6:14]) #6:14 isso pode mudar. O gráfico acima ajuda na melhor definição dos pontos. Mais estável.\n",
    "tab$ggbbhadj\n",
    "\n",
    "# 5qa observado\n",
    "\n",
    "tab$q.a.obs<-round(tab$temj*10/(2+5*tab$temj), digits=5)\n",
    "tab$q.a.obs\n",
    "\n",
    "# 5qa ajustado SEG\n",
    "\n",
    "tab$q.a.adj<-round(tab$ggbbhadj*10/(2+5*tab$ggbbhadj), digits=5)\n",
    "tab$q.a.adj\n",
    "\n"
   ]
  },
  {
   "cell_type": "markdown",
   "metadata": {
    "id": "_Z8a0KkX0Q1s"
   },
   "source": [
    "# **5. DDM**\n"
   ]
  },
  {
   "cell_type": "code",
   "execution_count": null,
   "metadata": {
    "colab": {
     "base_uri": "https://localhost:8080/",
     "height": 85
    },
    "id": "22fre3AN0S0Q",
    "jupyter": {
     "source_hidden": true
    },
    "outputId": "40d846aa-d78a-4b09-cafe-5e50c88e129a"
   },
   "outputs": [
    {
     "name": "stderr",
     "output_type": "stream",
     "text": [
      "Installing package into ‘/usr/local/lib/R/site-library’\n",
      "(as ‘lib’ is unspecified)\n",
      "\n"
     ]
    },
    {
     "data": {
      "text/plain": [
       "[1] ‘1.0.0’"
      ]
     },
     "metadata": {
      "tags": []
     },
     "output_type": "display_data"
    }
   ],
   "source": [
    "install.packages('DDM', repos='http://cran.rstudio.com/')\n",
    "library(DDM)\n",
    "packageVersion('DDM')"
   ]
  },
  {
   "cell_type": "code",
   "execution_count": null,
   "metadata": {
    "colab": {
     "base_uri": "https://localhost:8080/",
     "height": 204
    },
    "id": "c4FwxwIz3VbL",
    "jupyter": {
     "source_hidden": true
    },
    "outputId": "c95e6165-1589-4303-f1aa-ba0d8531849a"
   },
   "outputs": [
    {
     "data": {
      "text/html": [
       "<table>\n",
       "<caption>A data.frame: 6 × 8</caption>\n",
       "<thead>\n",
       "\t<tr><th></th><th scope=col>cod</th><th scope=col>pop1</th><th scope=col>pop2</th><th scope=col>deaths</th><th scope=col>year1</th><th scope=col>year2</th><th scope=col>age</th><th scope=col>sex</th></tr>\n",
       "\t<tr><th></th><th scope=col>&lt;int&gt;</th><th scope=col>&lt;int&gt;</th><th scope=col>&lt;int&gt;</th><th scope=col>&lt;dbl&gt;</th><th scope=col>&lt;int&gt;</th><th scope=col>&lt;int&gt;</th><th scope=col>&lt;int&gt;</th><th scope=col>&lt;chr&gt;</th></tr>\n",
       "</thead>\n",
       "<tbody>\n",
       "\t<tr><th scope=row>1</th><td>11</td><td>10026</td><td>15841</td><td>538.5</td><td>1980</td><td>1991</td><td> 0</td><td>m</td></tr>\n",
       "\t<tr><th scope=row>2</th><td>11</td><td>33801</td><td>63170</td><td>156.5</td><td>1980</td><td>1991</td><td> 1</td><td>m</td></tr>\n",
       "\t<tr><th scope=row>3</th><td>11</td><td>37658</td><td>79026</td><td> 42.0</td><td>1980</td><td>1991</td><td> 5</td><td>m</td></tr>\n",
       "\t<tr><th scope=row>4</th><td>11</td><td>33235</td><td>75034</td><td> 42.0</td><td>1980</td><td>1991</td><td>10</td><td>m</td></tr>\n",
       "\t<tr><th scope=row>5</th><td>11</td><td>28180</td><td>63671</td><td> 88.0</td><td>1980</td><td>1991</td><td>15</td><td>m</td></tr>\n",
       "\t<tr><th scope=row>6</th><td>11</td><td>24429</td><td>56590</td><td>121.0</td><td>1980</td><td>1991</td><td>20</td><td>m</td></tr>\n",
       "</tbody>\n",
       "</table>\n"
      ],
      "text/latex": [
       "A data.frame: 6 × 8\n",
       "\\begin{tabular}{r|llllllll}\n",
       "  & cod & pop1 & pop2 & deaths & year1 & year2 & age & sex\\\\\n",
       "  & <int> & <int> & <int> & <dbl> & <int> & <int> & <int> & <chr>\\\\\n",
       "\\hline\n",
       "\t1 & 11 & 10026 & 15841 & 538.5 & 1980 & 1991 &  0 & m\\\\\n",
       "\t2 & 11 & 33801 & 63170 & 156.5 & 1980 & 1991 &  1 & m\\\\\n",
       "\t3 & 11 & 37658 & 79026 &  42.0 & 1980 & 1991 &  5 & m\\\\\n",
       "\t4 & 11 & 33235 & 75034 &  42.0 & 1980 & 1991 & 10 & m\\\\\n",
       "\t5 & 11 & 28180 & 63671 &  88.0 & 1980 & 1991 & 15 & m\\\\\n",
       "\t6 & 11 & 24429 & 56590 & 121.0 & 1980 & 1991 & 20 & m\\\\\n",
       "\\end{tabular}\n"
      ],
      "text/markdown": [
       "\n",
       "A data.frame: 6 × 8\n",
       "\n",
       "| <!--/--> | cod &lt;int&gt; | pop1 &lt;int&gt; | pop2 &lt;int&gt; | deaths &lt;dbl&gt; | year1 &lt;int&gt; | year2 &lt;int&gt; | age &lt;int&gt; | sex &lt;chr&gt; |\n",
       "|---|---|---|---|---|---|---|---|---|\n",
       "| 1 | 11 | 10026 | 15841 | 538.5 | 1980 | 1991 |  0 | m |\n",
       "| 2 | 11 | 33801 | 63170 | 156.5 | 1980 | 1991 |  1 | m |\n",
       "| 3 | 11 | 37658 | 79026 |  42.0 | 1980 | 1991 |  5 | m |\n",
       "| 4 | 11 | 33235 | 75034 |  42.0 | 1980 | 1991 | 10 | m |\n",
       "| 5 | 11 | 28180 | 63671 |  88.0 | 1980 | 1991 | 15 | m |\n",
       "| 6 | 11 | 24429 | 56590 | 121.0 | 1980 | 1991 | 20 | m |\n",
       "\n"
      ],
      "text/plain": [
       "  cod pop1  pop2  deaths year1 year2 age sex\n",
       "1 11  10026 15841 538.5  1980  1991   0  m  \n",
       "2 11  33801 63170 156.5  1980  1991   1  m  \n",
       "3 11  37658 79026  42.0  1980  1991   5  m  \n",
       "4 11  33235 75034  42.0  1980  1991  10  m  \n",
       "5 11  28180 63671  88.0  1980  1991  15  m  \n",
       "6 11  24429 56590 121.0  1980  1991  20  m  "
      ]
     },
     "metadata": {
      "tags": []
     },
     "output_type": "display_data"
    }
   ],
   "source": [
    "# Mostra primeiras linhas do datafrane\n",
    "head(BrasilMales)"
   ]
  },
  {
   "cell_type": "code",
   "execution_count": null,
   "metadata": {
    "colab": {
     "base_uri": "https://localhost:8080/",
     "height": 456
    },
    "id": "O8C6c54i0av1",
    "jupyter": {
     "source_hidden": true
    },
    "outputId": "35a25f2d-52f7-4a74-e318-bc64eca22c83"
   },
   "outputs": [
    {
     "data": {
      "text/html": [
       "<table>\n",
       "<caption>A data.frame: 18 × 8</caption>\n",
       "<thead>\n",
       "\t<tr><th></th><th scope=col>cod</th><th scope=col>pop1</th><th scope=col>pop2</th><th scope=col>deaths</th><th scope=col>year1</th><th scope=col>year2</th><th scope=col>age</th><th scope=col>sex</th></tr>\n",
       "\t<tr><th></th><th scope=col>&lt;int&gt;</th><th scope=col>&lt;int&gt;</th><th scope=col>&lt;int&gt;</th><th scope=col>&lt;dbl&gt;</th><th scope=col>&lt;int&gt;</th><th scope=col>&lt;int&gt;</th><th scope=col>&lt;int&gt;</th><th scope=col>&lt;chr&gt;</th></tr>\n",
       "</thead>\n",
       "<tbody>\n",
       "\t<tr><th scope=row>37</th><td>13</td><td> 29328</td><td> 27859</td><td>991.0</td><td>1980</td><td>1991</td><td> 0</td><td>m</td></tr>\n",
       "\t<tr><th scope=row>38</th><td>13</td><td>105112</td><td>123959</td><td>211.0</td><td>1980</td><td>1991</td><td> 1</td><td>m</td></tr>\n",
       "\t<tr><th scope=row>39</th><td>13</td><td>111384</td><td>162301</td><td> 71.5</td><td>1980</td><td>1991</td><td> 5</td><td>m</td></tr>\n",
       "\t<tr><th scope=row>40</th><td>13</td><td> 94045</td><td>151331</td><td> 66.5</td><td>1980</td><td>1991</td><td>10</td><td>m</td></tr>\n",
       "\t<tr><th scope=row>41</th><td>13</td><td> 79099</td><td>120413</td><td>152.0</td><td>1980</td><td>1991</td><td>15</td><td>m</td></tr>\n",
       "\t<tr><th scope=row>42</th><td>13</td><td> 64665</td><td> 97192</td><td>188.0</td><td>1980</td><td>1991</td><td>20</td><td>m</td></tr>\n",
       "\t<tr><th scope=row>43</th><td>13</td><td> 51902</td><td> 82068</td><td>166.0</td><td>1980</td><td>1991</td><td>25</td><td>m</td></tr>\n",
       "\t<tr><th scope=row>44</th><td>13</td><td> 40637</td><td> 70707</td><td>136.5</td><td>1980</td><td>1991</td><td>30</td><td>m</td></tr>\n",
       "\t<tr><th scope=row>45</th><td>13</td><td> 32885</td><td> 55916</td><td>133.0</td><td>1980</td><td>1991</td><td>35</td><td>m</td></tr>\n",
       "\t<tr><th scope=row>46</th><td>13</td><td> 29906</td><td> 45770</td><td>170.5</td><td>1980</td><td>1991</td><td>40</td><td>m</td></tr>\n",
       "\t<tr><th scope=row>47</th><td>13</td><td> 22570</td><td> 32978</td><td>155.5</td><td>1980</td><td>1991</td><td>45</td><td>m</td></tr>\n",
       "\t<tr><th scope=row>48</th><td>13</td><td> 18644</td><td> 26719</td><td>161.0</td><td>1980</td><td>1991</td><td>50</td><td>m</td></tr>\n",
       "\t<tr><th scope=row>49</th><td>13</td><td> 13903</td><td> 19051</td><td>166.5</td><td>1980</td><td>1991</td><td>55</td><td>m</td></tr>\n",
       "\t<tr><th scope=row>50</th><td>13</td><td> 10124</td><td> 16058</td><td>195.0</td><td>1980</td><td>1991</td><td>60</td><td>m</td></tr>\n",
       "\t<tr><th scope=row>51</th><td>13</td><td>  8661</td><td> 12201</td><td>252.5</td><td>1980</td><td>1991</td><td>65</td><td>m</td></tr>\n",
       "\t<tr><th scope=row>52</th><td>13</td><td>  4940</td><td>  7680</td><td>218.5</td><td>1980</td><td>1991</td><td>70</td><td>m</td></tr>\n",
       "\t<tr><th scope=row>53</th><td>13</td><td>  2542</td><td>  4863</td><td>194.5</td><td>1980</td><td>1991</td><td>75</td><td>m</td></tr>\n",
       "\t<tr><th scope=row>54</th><td>13</td><td>  1145</td><td>  3599</td><td>230.5</td><td>1980</td><td>1991</td><td>80</td><td>m</td></tr>\n",
       "</tbody>\n",
       "</table>\n"
      ],
      "text/latex": [
       "A data.frame: 18 × 8\n",
       "\\begin{tabular}{r|llllllll}\n",
       "  & cod & pop1 & pop2 & deaths & year1 & year2 & age & sex\\\\\n",
       "  & <int> & <int> & <int> & <dbl> & <int> & <int> & <int> & <chr>\\\\\n",
       "\\hline\n",
       "\t37 & 13 &  29328 &  27859 & 991.0 & 1980 & 1991 &  0 & m\\\\\n",
       "\t38 & 13 & 105112 & 123959 & 211.0 & 1980 & 1991 &  1 & m\\\\\n",
       "\t39 & 13 & 111384 & 162301 &  71.5 & 1980 & 1991 &  5 & m\\\\\n",
       "\t40 & 13 &  94045 & 151331 &  66.5 & 1980 & 1991 & 10 & m\\\\\n",
       "\t41 & 13 &  79099 & 120413 & 152.0 & 1980 & 1991 & 15 & m\\\\\n",
       "\t42 & 13 &  64665 &  97192 & 188.0 & 1980 & 1991 & 20 & m\\\\\n",
       "\t43 & 13 &  51902 &  82068 & 166.0 & 1980 & 1991 & 25 & m\\\\\n",
       "\t44 & 13 &  40637 &  70707 & 136.5 & 1980 & 1991 & 30 & m\\\\\n",
       "\t45 & 13 &  32885 &  55916 & 133.0 & 1980 & 1991 & 35 & m\\\\\n",
       "\t46 & 13 &  29906 &  45770 & 170.5 & 1980 & 1991 & 40 & m\\\\\n",
       "\t47 & 13 &  22570 &  32978 & 155.5 & 1980 & 1991 & 45 & m\\\\\n",
       "\t48 & 13 &  18644 &  26719 & 161.0 & 1980 & 1991 & 50 & m\\\\\n",
       "\t49 & 13 &  13903 &  19051 & 166.5 & 1980 & 1991 & 55 & m\\\\\n",
       "\t50 & 13 &  10124 &  16058 & 195.0 & 1980 & 1991 & 60 & m\\\\\n",
       "\t51 & 13 &   8661 &  12201 & 252.5 & 1980 & 1991 & 65 & m\\\\\n",
       "\t52 & 13 &   4940 &   7680 & 218.5 & 1980 & 1991 & 70 & m\\\\\n",
       "\t53 & 13 &   2542 &   4863 & 194.5 & 1980 & 1991 & 75 & m\\\\\n",
       "\t54 & 13 &   1145 &   3599 & 230.5 & 1980 & 1991 & 80 & m\\\\\n",
       "\\end{tabular}\n"
      ],
      "text/markdown": [
       "\n",
       "A data.frame: 18 × 8\n",
       "\n",
       "| <!--/--> | cod &lt;int&gt; | pop1 &lt;int&gt; | pop2 &lt;int&gt; | deaths &lt;dbl&gt; | year1 &lt;int&gt; | year2 &lt;int&gt; | age &lt;int&gt; | sex &lt;chr&gt; |\n",
       "|---|---|---|---|---|---|---|---|---|\n",
       "| 37 | 13 |  29328 |  27859 | 991.0 | 1980 | 1991 |  0 | m |\n",
       "| 38 | 13 | 105112 | 123959 | 211.0 | 1980 | 1991 |  1 | m |\n",
       "| 39 | 13 | 111384 | 162301 |  71.5 | 1980 | 1991 |  5 | m |\n",
       "| 40 | 13 |  94045 | 151331 |  66.5 | 1980 | 1991 | 10 | m |\n",
       "| 41 | 13 |  79099 | 120413 | 152.0 | 1980 | 1991 | 15 | m |\n",
       "| 42 | 13 |  64665 |  97192 | 188.0 | 1980 | 1991 | 20 | m |\n",
       "| 43 | 13 |  51902 |  82068 | 166.0 | 1980 | 1991 | 25 | m |\n",
       "| 44 | 13 |  40637 |  70707 | 136.5 | 1980 | 1991 | 30 | m |\n",
       "| 45 | 13 |  32885 |  55916 | 133.0 | 1980 | 1991 | 35 | m |\n",
       "| 46 | 13 |  29906 |  45770 | 170.5 | 1980 | 1991 | 40 | m |\n",
       "| 47 | 13 |  22570 |  32978 | 155.5 | 1980 | 1991 | 45 | m |\n",
       "| 48 | 13 |  18644 |  26719 | 161.0 | 1980 | 1991 | 50 | m |\n",
       "| 49 | 13 |  13903 |  19051 | 166.5 | 1980 | 1991 | 55 | m |\n",
       "| 50 | 13 |  10124 |  16058 | 195.0 | 1980 | 1991 | 60 | m |\n",
       "| 51 | 13 |   8661 |  12201 | 252.5 | 1980 | 1991 | 65 | m |\n",
       "| 52 | 13 |   4940 |   7680 | 218.5 | 1980 | 1991 | 70 | m |\n",
       "| 53 | 13 |   2542 |   4863 | 194.5 | 1980 | 1991 | 75 | m |\n",
       "| 54 | 13 |   1145 |   3599 | 230.5 | 1980 | 1991 | 80 | m |\n",
       "\n"
      ],
      "text/plain": [
       "   cod pop1   pop2   deaths year1 year2 age sex\n",
       "37 13   29328  27859 991.0  1980  1991   0  m  \n",
       "38 13  105112 123959 211.0  1980  1991   1  m  \n",
       "39 13  111384 162301  71.5  1980  1991   5  m  \n",
       "40 13   94045 151331  66.5  1980  1991  10  m  \n",
       "41 13   79099 120413 152.0  1980  1991  15  m  \n",
       "42 13   64665  97192 188.0  1980  1991  20  m  \n",
       "43 13   51902  82068 166.0  1980  1991  25  m  \n",
       "44 13   40637  70707 136.5  1980  1991  30  m  \n",
       "45 13   32885  55916 133.0  1980  1991  35  m  \n",
       "46 13   29906  45770 170.5  1980  1991  40  m  \n",
       "47 13   22570  32978 155.5  1980  1991  45  m  \n",
       "48 13   18644  26719 161.0  1980  1991  50  m  \n",
       "49 13   13903  19051 166.5  1980  1991  55  m  \n",
       "50 13   10124  16058 195.0  1980  1991  60  m  \n",
       "51 13    8661  12201 252.5  1980  1991  65  m  \n",
       "52 13    4940   7680 218.5  1980  1991  70  m  \n",
       "53 13    2542   4863 194.5  1980  1991  75  m  \n",
       "54 13    1145   3599 230.5  1980  1991  80  m  "
      ]
     },
     "metadata": {
      "tags": []
     },
     "output_type": "display_data"
    }
   ],
   "source": [
    "# Pop AM Censo 1980 e 1991\n",
    "dfAmazonas = subset(BrasilMales, cod == 13)\n",
    "dfAmazonas"
   ]
  },
  {
   "cell_type": "code",
   "execution_count": null,
   "metadata": {
    "colab": {
     "base_uri": "https://localhost:8080/",
     "height": 99
    },
    "id": "PTZK2QFn40X5",
    "jupyter": {
     "source_hidden": true
    },
    "outputId": "0264bc36-cd58-4b0d-8d83-7406012c1c6c"
   },
   "outputs": [
    {
     "data": {
      "text/html": [
       "<table>\n",
       "<caption>A data.frame: 1 × 9</caption>\n",
       "<thead>\n",
       "\t<tr><th></th><th scope=col>cod</th><th scope=col>coverage</th><th scope=col>lower</th><th scope=col>upper</th><th scope=col>a</th><th scope=col>b</th><th scope=col>delta</th><th scope=col>k1</th><th scope=col>k2</th></tr>\n",
       "\t<tr><th></th><th scope=col>&lt;int&gt;</th><th scope=col>&lt;dbl&gt;</th><th scope=col>&lt;int&gt;</th><th scope=col>&lt;int&gt;</th><th scope=col>&lt;dbl&gt;</th><th scope=col>&lt;dbl&gt;</th><th scope=col>&lt;dbl&gt;</th><th scope=col>&lt;dbl&gt;</th><th scope=col>&lt;dbl&gt;</th></tr>\n",
       "</thead>\n",
       "<tbody>\n",
       "\t<tr><th scope=row>13</th><td>13</td><td>0.6429759</td><td>15</td><td>60</td><td>-0.001894557</td><td>1.555268</td><td>0.9793755</td><td>0.9793755</td><td>1</td></tr>\n",
       "</tbody>\n",
       "</table>\n"
      ],
      "text/latex": [
       "A data.frame: 1 × 9\n",
       "\\begin{tabular}{r|lllllllll}\n",
       "  & cod & coverage & lower & upper & a & b & delta & k1 & k2\\\\\n",
       "  & <int> & <dbl> & <int> & <int> & <dbl> & <dbl> & <dbl> & <dbl> & <dbl>\\\\\n",
       "\\hline\n",
       "\t13 & 13 & 0.6429759 & 15 & 60 & -0.001894557 & 1.555268 & 0.9793755 & 0.9793755 & 1\\\\\n",
       "\\end{tabular}\n"
      ],
      "text/markdown": [
       "\n",
       "A data.frame: 1 × 9\n",
       "\n",
       "| <!--/--> | cod &lt;int&gt; | coverage &lt;dbl&gt; | lower &lt;int&gt; | upper &lt;int&gt; | a &lt;dbl&gt; | b &lt;dbl&gt; | delta &lt;dbl&gt; | k1 &lt;dbl&gt; | k2 &lt;dbl&gt; |\n",
       "|---|---|---|---|---|---|---|---|---|---|\n",
       "| 13 | 13 | 0.6429759 | 15 | 60 | -0.001894557 | 1.555268 | 0.9793755 | 0.9793755 | 1 |\n",
       "\n"
      ],
      "text/plain": [
       "   cod coverage  lower upper a            b        delta     k1        k2\n",
       "13 13  0.6429759 15    60    -0.001894557 1.555268 0.9793755 0.9793755 1 "
      ]
     },
     "metadata": {
      "tags": []
     },
     "output_type": "display_data"
    }
   ],
   "source": [
    "ggb(dfAmazonas)"
   ]
  },
  {
   "cell_type": "code",
   "execution_count": null,
   "metadata": {
    "colab": {
     "base_uri": "https://localhost:8080/",
     "height": 99
    },
    "id": "3_NAGb1N62Tm",
    "jupyter": {
     "source_hidden": true
    },
    "outputId": "9edaa802-a59b-455d-ee95-c9538e251b86"
   },
   "outputs": [
    {
     "data": {
      "text/html": [
       "<table>\n",
       "<caption>A data.frame: 1 × 7</caption>\n",
       "<thead>\n",
       "\t<tr><th scope=col>cod</th><th scope=col>ggb</th><th scope=col>seg</th><th scope=col>ggbseg</th><th scope=col>lower</th><th scope=col>upper</th><th scope=col>delta</th></tr>\n",
       "\t<tr><th scope=col>&lt;int&gt;</th><th scope=col>&lt;dbl&gt;</th><th scope=col>&lt;dbl&gt;</th><th scope=col>&lt;dbl&gt;</th><th scope=col>&lt;int&gt;</th><th scope=col>&lt;int&gt;</th><th scope=col>&lt;dbl&gt;</th></tr>\n",
       "</thead>\n",
       "<tbody>\n",
       "\t<tr><td>13</td><td>0.6429759</td><td>0.7228057</td><td>0.6687365</td><td>15</td><td>60</td><td>0.9793755</td></tr>\n",
       "</tbody>\n",
       "</table>\n"
      ],
      "text/latex": [
       "A data.frame: 1 × 7\n",
       "\\begin{tabular}{lllllll}\n",
       " cod & ggb & seg & ggbseg & lower & upper & delta\\\\\n",
       " <int> & <dbl> & <dbl> & <dbl> & <int> & <int> & <dbl>\\\\\n",
       "\\hline\n",
       "\t 13 & 0.6429759 & 0.7228057 & 0.6687365 & 15 & 60 & 0.9793755\\\\\n",
       "\\end{tabular}\n"
      ],
      "text/markdown": [
       "\n",
       "A data.frame: 1 × 7\n",
       "\n",
       "| cod &lt;int&gt; | ggb &lt;dbl&gt; | seg &lt;dbl&gt; | ggbseg &lt;dbl&gt; | lower &lt;int&gt; | upper &lt;int&gt; | delta &lt;dbl&gt; |\n",
       "|---|---|---|---|---|---|---|\n",
       "| 13 | 0.6429759 | 0.7228057 | 0.6687365 | 15 | 60 | 0.9793755 |\n",
       "\n"
      ],
      "text/plain": [
       "  cod ggb       seg       ggbseg    lower upper delta    \n",
       "1 13  0.6429759 0.7228057 0.6687365 15    60    0.9793755"
      ]
     },
     "metadata": {
      "tags": []
     },
     "output_type": "display_data"
    }
   ],
   "source": [
    "ddm(dfAmazonas)"
   ]
  },
  {
   "cell_type": "markdown",
   "metadata": {
    "id": "1Tgcf5h1qvLS"
   },
   "source": [
    "# General Growth Balance de Brass\n",
    "[GGB Brass](http://demographicestimation.iussp.org/print/book/export/html/83)"
   ]
  },
  {
   "cell_type": "markdown",
   "metadata": {
    "id": "8su5MYvbqsdn"
   },
   "source": [
    "O método General Growth Balance de Brass ( Brass, 1975 ) é o primeiro do que mais tarde ficou conhecido como Métodos de distribuição de mortes para estimar a integridade do registro de mortes em relação a uma estimativa da população. O método faz uso da observação de que em uma população estável (ou seja, uma população com uma estrutura etária imutável ao longo do tempo - pelo menos para a idade adulta - crescendo a uma taxa constante, r , a cada ano) que está fechada para a migração e tem dados relatados, a taxa de crescimento, r , é igual à taxa de natalidade, b , menos a taxa de mortalidade, d . Uma relação semelhante é válida para a população com idade x e mais velhos, ou seja, que\n",
    "\n",
    "r = b(x+) − d(x+)\n",
    "\n",
    "onde a taxa de \"natalidade\" parcial, b(x+), definido como a taxa na qual as pessoas atingem a idade x na população com idade x e mais velhos e a taxa parcial de mortalidade d(x+) é a taxa de mortalidade de pessoas com idade x e mais velhos. \n",
    "\n",
    "Se, nesta população, as mortes são subnotificadas na mesma medida em cada idade, então\n",
    "\n",
    "b(x+) = r + (dr(x+) / c)\n",
    "\n",
    "onde dr(x+) é a taxa de mortalidade com base nas mortes registradas para as idades x e mais velhas e \"c\" é a proporção de mortes que são relatadas. \n",
    "\n",
    "Pode-se estimar c a partir da inclinação de uma reta ajustada aos pontos de dados  b(x+), dr(x+) .\n",
    "\n",
    "Essa estimativa geralmente se limita à idade dos adultos, uma vez que a (extensão da) abrangência da notificação de mortes de crianças geralmente difere daquela das mortes de adultos. As taxas de mortalidade podem ser estimadas dividindo o número de mortes relatadas em cada grupo de idade por \"c\" e dividindo esses números por uma estimativa da população exposta ao risco com base na população usada para estimar as taxas parciais de natalidade e mortalidade.\n",
    "\n",
    "O método é um caso particular do método mais geral de  Generalized Growth Balance, que requer estimativas da população em dois pontos no tempo, mas não requer que a população seja estável. Os leitores são encaminhados para essa seção para obter mais detalhes sobre o método. Ele está incluído neste manual como um método que pode ser considerado quando se tem uma estimativa dos números da população apenas em um ponto no tempo."
   ]
  },
  {
   "cell_type": "markdown",
   "metadata": {
    "id": "v36NSEffquDl"
   },
   "source": [
    "# Referências"
   ]
  },
  {
   "cell_type": "markdown",
   "metadata": {
    "execution": {
     "iopub.execute_input": "2020-12-05T12:38:38.685177Z",
     "iopub.status.busy": "2020-12-05T12:38:38.683976Z",
     "iopub.status.idle": "2020-12-05T12:38:38.707548Z"
    }
   },
   "source": [
    "AGOSTINHO, Cíntia & Queiroz, Bernardo. (2008) Estimativas da mortalidade adulta para o Brasil no período 1980/2000: uma abordagem metodológica comparativa.\n",
    "\n",
    "JORGE, M.H.P. M. e GOTLIEB, S.L.D. (2000) As Condições de Saúde no Brasil: Retrospecto de 1979 a 1995. Rio de Janeiro: Editora FIOCRUZ.\n",
    "\n",
    "MINISTÉRIO DA SAÚDE (2001) Anuário Estatístico de Saúde do Brasil, 2001. Disponível online em http://portal.saude.gov.br/portal/aplicacoes/anuario2001/index.cfm. Acessado em 14/02/2008.\n",
    "\n",
    "UN Population Division. (1983) Manual X: Indirect Techniques for Demographic Estimation. New York: United Nations, Department of Economic and Social Affairs, ST/ESA/SER.A/81. http://www.un.org/esa/population/techcoop/DemEst/manual10/manual10.html\n",
    "\n",
    "UN Population Division. (2002) Methods for Estimating Adult Mortality. New York: United Nations, Department of Economic and Social Affairs, ESA/P/WP.175. http://www.un.org/esa/population/techcoop/DemEst/methods_adultmort/methods_adultmort.html\n",
    "\n",
    "PRESTON, S. H.; ELO, I. T.; STEWART, Q. (1999) Effects of age misreporting on mortality estimates at older ages. Population Studies, v.53, n.2, p. 165-177\n",
    "Brass W. 1975. Methods for Estimating Fertility and Mortality from Limited and Defective Data. Chapel Hill NC: Carolina Population Centre.\n",
    "\n",
    "PRESTON, S., COALE, A.J., TRUSSELL, J., MAXINE, W. (1980) Estimating the completeness of reporting of adult deaths in populations that are approximately stable. Population Studies, vol. 46, n. 2, summer, 1980, pg. 179-202.\n",
    "\n",
    "BENNETT, N. G.; HORIUCHI, S. (1981) Estimating the completeness of death registration in a closed population. Population Index, vol.47, n.2, p. 207-221\n",
    "\n",
    "HILL K. (1987) \"Estimating census and death registration completeness\", Asian and Pacific Census Forum 1(3):8-13, 23-24. http://hdl.handle.net/10125/3602.\n",
    "\n",
    "HILL,K.eCHOI,Y. (2004) Death distribution methods for estimating adult mortality: sensitivity analysis with simulated data errors. Adult mortality in developing countries workshop. The Marconi Center, Marin County, California, July 2004. \n",
    "\n",
    "GGB. (2020) The Generalized Growth Balance Method. Disponível em http://demographicestimation.iussp.org/content/generalized-growth-balance-method2020.\n",
    "\n",
    "TESE AGOSTINHO...\n"
   ]
  }
 ],
 "metadata": {
  "colab": {
   "collapsed_sections": [],
   "name": "LAB2 - DM003.ipynb",
   "provenance": []
  },
  "kernelspec": {
   "display_name": "R",
   "language": "R",
   "name": "ir"
  },
  "language_info": {
   "codemirror_mode": "r",
   "file_extension": ".r",
   "mimetype": "text/x-r-source",
   "name": "R",
   "pygments_lexer": "r",
   "version": "3.6.1"
  }
 },
 "nbformat": 4,
 "nbformat_minor": 4
}
